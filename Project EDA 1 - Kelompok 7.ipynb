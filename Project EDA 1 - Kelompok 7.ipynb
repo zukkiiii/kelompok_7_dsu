{
 "cells": [
  {
   "cell_type": "markdown",
   "metadata": {},
   "source": [
    "# Project EDA - Kelompok 7"
   ]
  },
  {
   "cell_type": "markdown",
   "metadata": {},
   "source": [
    "### 1. Import Package yang akan digunakan"
   ]
  },
  {
   "cell_type": "code",
   "execution_count": 1,
   "metadata": {},
   "outputs": [],
   "source": [
    "import pandas as pd\n",
    "import numpy as np\n",
    "%matplotlib inline\n",
    "import matplotlib.pyplot as plt\n",
    "import seaborn as sns"
   ]
  },
  {
   "cell_type": "markdown",
   "metadata": {},
   "source": [
    "### 2. Import Data"
   ]
  },
  {
   "cell_type": "code",
   "execution_count": 2,
   "metadata": {},
   "outputs": [],
   "source": [
    "data = pd.read_csv('Kelompok 7 Golden Globe Awards.csv')"
   ]
  },
  {
   "cell_type": "code",
   "execution_count": 3,
   "metadata": {},
   "outputs": [
    {
     "data": {
      "text/html": [
       "<div>\n",
       "<style scoped>\n",
       "    .dataframe tbody tr th:only-of-type {\n",
       "        vertical-align: middle;\n",
       "    }\n",
       "\n",
       "    .dataframe tbody tr th {\n",
       "        vertical-align: top;\n",
       "    }\n",
       "\n",
       "    .dataframe thead th {\n",
       "        text-align: right;\n",
       "    }\n",
       "</style>\n",
       "<table border=\"1\" class=\"dataframe\">\n",
       "  <thead>\n",
       "    <tr style=\"text-align: right;\">\n",
       "      <th></th>\n",
       "      <th>year_film</th>\n",
       "      <th>year_award</th>\n",
       "      <th>ceremony</th>\n",
       "      <th>category</th>\n",
       "      <th>nominee</th>\n",
       "      <th>film</th>\n",
       "      <th>win</th>\n",
       "    </tr>\n",
       "  </thead>\n",
       "  <tbody>\n",
       "    <tr>\n",
       "      <th>0</th>\n",
       "      <td>1943</td>\n",
       "      <td>1944</td>\n",
       "      <td>1</td>\n",
       "      <td>Best Performance by an Actress in a Supporting...</td>\n",
       "      <td>Katina Paxinou</td>\n",
       "      <td>For Whom The Bell Tolls</td>\n",
       "      <td>True</td>\n",
       "    </tr>\n",
       "    <tr>\n",
       "      <th>1</th>\n",
       "      <td>1943</td>\n",
       "      <td>1944</td>\n",
       "      <td>1</td>\n",
       "      <td>Best Performance by an Actor in a Supporting R...</td>\n",
       "      <td>Akim Tamiroff</td>\n",
       "      <td>For Whom The Bell Tolls</td>\n",
       "      <td>True</td>\n",
       "    </tr>\n",
       "    <tr>\n",
       "      <th>2</th>\n",
       "      <td>1943</td>\n",
       "      <td>1944</td>\n",
       "      <td>1</td>\n",
       "      <td>Best Director - Motion Picture</td>\n",
       "      <td>Henry King</td>\n",
       "      <td>The Song Of Bernadette</td>\n",
       "      <td>True</td>\n",
       "    </tr>\n",
       "    <tr>\n",
       "      <th>3</th>\n",
       "      <td>1943</td>\n",
       "      <td>1944</td>\n",
       "      <td>1</td>\n",
       "      <td>Picture</td>\n",
       "      <td>The Song Of Bernadette</td>\n",
       "      <td>NaN</td>\n",
       "      <td>True</td>\n",
       "    </tr>\n",
       "    <tr>\n",
       "      <th>4</th>\n",
       "      <td>1943</td>\n",
       "      <td>1944</td>\n",
       "      <td>1</td>\n",
       "      <td>Actress In A Leading Role</td>\n",
       "      <td>Jennifer Jones</td>\n",
       "      <td>The Song Of Bernadette</td>\n",
       "      <td>True</td>\n",
       "    </tr>\n",
       "  </tbody>\n",
       "</table>\n",
       "</div>"
      ],
      "text/plain": [
       "   year_film  year_award  ceremony  \\\n",
       "0       1943        1944         1   \n",
       "1       1943        1944         1   \n",
       "2       1943        1944         1   \n",
       "3       1943        1944         1   \n",
       "4       1943        1944         1   \n",
       "\n",
       "                                            category                 nominee  \\\n",
       "0  Best Performance by an Actress in a Supporting...          Katina Paxinou   \n",
       "1  Best Performance by an Actor in a Supporting R...           Akim Tamiroff   \n",
       "2                     Best Director - Motion Picture              Henry King   \n",
       "3                                            Picture  The Song Of Bernadette   \n",
       "4                          Actress In A Leading Role          Jennifer Jones   \n",
       "\n",
       "                      film   win  \n",
       "0  For Whom The Bell Tolls  True  \n",
       "1  For Whom The Bell Tolls  True  \n",
       "2   The Song Of Bernadette  True  \n",
       "3                      NaN  True  \n",
       "4   The Song Of Bernadette  True  "
      ]
     },
     "execution_count": 3,
     "metadata": {},
     "output_type": "execute_result"
    }
   ],
   "source": [
    "data.head(5)"
   ]
  },
  {
   "cell_type": "markdown",
   "metadata": {},
   "source": [
    "### 3. Deskripsi Data"
   ]
  },
  {
   "cell_type": "code",
   "execution_count": 4,
   "metadata": {},
   "outputs": [
    {
     "name": "stdout",
     "output_type": "stream",
     "text": [
      "<class 'pandas.core.frame.DataFrame'>\n",
      "RangeIndex: 7991 entries, 0 to 7990\n",
      "Data columns (total 7 columns):\n",
      "year_film     7991 non-null int64\n",
      "year_award    7991 non-null int64\n",
      "ceremony      7991 non-null int64\n",
      "category      7991 non-null object\n",
      "nominee       7991 non-null object\n",
      "film          6191 non-null object\n",
      "win           7991 non-null bool\n",
      "dtypes: bool(1), int64(3), object(3)\n",
      "memory usage: 382.5+ KB\n"
     ]
    }
   ],
   "source": [
    "data.info()"
   ]
  },
  {
   "cell_type": "code",
   "execution_count": 5,
   "metadata": {},
   "outputs": [
    {
     "data": {
      "text/html": [
       "<div>\n",
       "<style scoped>\n",
       "    .dataframe tbody tr th:only-of-type {\n",
       "        vertical-align: middle;\n",
       "    }\n",
       "\n",
       "    .dataframe tbody tr th {\n",
       "        vertical-align: top;\n",
       "    }\n",
       "\n",
       "    .dataframe thead th {\n",
       "        text-align: right;\n",
       "    }\n",
       "</style>\n",
       "<table border=\"1\" class=\"dataframe\">\n",
       "  <thead>\n",
       "    <tr style=\"text-align: right;\">\n",
       "      <th></th>\n",
       "      <th>year_film</th>\n",
       "      <th>year_award</th>\n",
       "      <th>ceremony</th>\n",
       "    </tr>\n",
       "  </thead>\n",
       "  <tbody>\n",
       "    <tr>\n",
       "      <th>count</th>\n",
       "      <td>7991.000000</td>\n",
       "      <td>7991.000000</td>\n",
       "      <td>7991.000000</td>\n",
       "    </tr>\n",
       "    <tr>\n",
       "      <th>mean</th>\n",
       "      <td>1987.490552</td>\n",
       "      <td>1988.490552</td>\n",
       "      <td>45.490552</td>\n",
       "    </tr>\n",
       "    <tr>\n",
       "      <th>std</th>\n",
       "      <td>18.936258</td>\n",
       "      <td>18.936258</td>\n",
       "      <td>18.936258</td>\n",
       "    </tr>\n",
       "    <tr>\n",
       "      <th>min</th>\n",
       "      <td>1943.000000</td>\n",
       "      <td>1944.000000</td>\n",
       "      <td>1.000000</td>\n",
       "    </tr>\n",
       "    <tr>\n",
       "      <th>25%</th>\n",
       "      <td>1972.000000</td>\n",
       "      <td>1973.000000</td>\n",
       "      <td>30.000000</td>\n",
       "    </tr>\n",
       "    <tr>\n",
       "      <th>50%</th>\n",
       "      <td>1988.000000</td>\n",
       "      <td>1989.000000</td>\n",
       "      <td>46.000000</td>\n",
       "    </tr>\n",
       "    <tr>\n",
       "      <th>75%</th>\n",
       "      <td>2004.000000</td>\n",
       "      <td>2005.000000</td>\n",
       "      <td>62.000000</td>\n",
       "    </tr>\n",
       "    <tr>\n",
       "      <th>max</th>\n",
       "      <td>2019.000000</td>\n",
       "      <td>2020.000000</td>\n",
       "      <td>77.000000</td>\n",
       "    </tr>\n",
       "  </tbody>\n",
       "</table>\n",
       "</div>"
      ],
      "text/plain": [
       "         year_film   year_award     ceremony\n",
       "count  7991.000000  7991.000000  7991.000000\n",
       "mean   1987.490552  1988.490552    45.490552\n",
       "std      18.936258    18.936258    18.936258\n",
       "min    1943.000000  1944.000000     1.000000\n",
       "25%    1972.000000  1973.000000    30.000000\n",
       "50%    1988.000000  1989.000000    46.000000\n",
       "75%    2004.000000  2005.000000    62.000000\n",
       "max    2019.000000  2020.000000    77.000000"
      ]
     },
     "execution_count": 5,
     "metadata": {},
     "output_type": "execute_result"
    }
   ],
   "source": [
    "data.describe()"
   ]
  },
  {
   "cell_type": "code",
   "execution_count": 6,
   "metadata": {},
   "outputs": [
    {
     "data": {
      "text/plain": [
       "year_film        0\n",
       "year_award       0\n",
       "ceremony         0\n",
       "category         0\n",
       "nominee          0\n",
       "film          1800\n",
       "win              0\n",
       "dtype: int64"
      ]
     },
     "execution_count": 6,
     "metadata": {},
     "output_type": "execute_result"
    }
   ],
   "source": [
    "data.isnull().sum()"
   ]
  },
  {
   "cell_type": "code",
   "execution_count": 7,
   "metadata": {},
   "outputs": [
    {
     "data": {
      "text/plain": [
       "array(['Best Performance by an Actress in a Supporting Role in any Motion Picture',\n",
       "       'Best Performance by an Actor in a Supporting Role in any Motion Picture',\n",
       "       'Best Director - Motion Picture', 'Picture',\n",
       "       'Actress In A Leading Role', 'Actor In A Leading Role',\n",
       "       'Promoting International Understanding',\n",
       "       'Special Achievement Award', 'Best Screenplay - Motion Picture',\n",
       "       'Best Original Score - Motion Picture',\n",
       "       'New Star Of The Year - Actress', 'New Star Of The Year - Actor',\n",
       "       'Juvenile Performance', 'Cinematography',\n",
       "       'Foreign Film - English Language',\n",
       "       'Best Motion Picture - Foreign Language',\n",
       "       'Outstanding Use Of Color',\n",
       "       'Best Performance by an Actress in a Motion Picture - Drama',\n",
       "       'Best Performance by an Actor in a Motion Picture - Drama',\n",
       "       'Best Performance by an Actor in a Motion Picture - Musical or Comedy',\n",
       "       'New Star Of The Year',\n",
       "       'Actress In A Leading Role - Musical Or Comedy',\n",
       "       'Henrietta Award (World Film Favorites)', 'Cinematography - Color',\n",
       "       'Cinematography - Black And White', 'Best Motion Picture - Drama',\n",
       "       'Best Motion Picture - Musical or Comedy',\n",
       "       'Henrietta Award (World Film Favorite)', 'Cecil B. deMille Award',\n",
       "       'Documentary', 'Television Achievement',\n",
       "       'Hollywood Citizenship Award',\n",
       "       'New Foreign Star Of The Year - Actress',\n",
       "       'New Foreign Star Of The Year - Actor',\n",
       "       'Foreign Film - Foreign Language', 'Picture - Musical',\n",
       "       'Picture - Comedy', 'Samuel Goldwyn International Award',\n",
       "       'Famous Silent Filmstars', 'Best Original Song - Motion Picture',\n",
       "       'Television Series', 'Actor In A Television Series',\n",
       "       'Actress In A Television Series', 'Best Television Series - Drama',\n",
       "       'Television Program', 'Television Producer/Director',\n",
       "       'Television Series - Comedy', 'International News Coverage',\n",
       "       'Television Series - Variety',\n",
       "       'Best Television Series - Musical or Comedy',\n",
       "       'Actor In A Television Series - Musical Or Comedy',\n",
       "       'Actor In A Television Series - Drama',\n",
       "       'Actress In A Television Series - Drama',\n",
       "       'Actress In A Television Series - Musical Or Comedy',\n",
       "       'Best Performance by an Actress In A Television Series - Drama',\n",
       "       'Best Performance by an Actor In A Television Series - Drama',\n",
       "       'Best Performance by an Actress in a Television Series - Musical or Comedy',\n",
       "       'Best Performance by an Actor in a Television Series - Musical or Comedy',\n",
       "       'Actor In A Supporting Role - Television Series',\n",
       "       'Actress In A Supporting Role - Television Series',\n",
       "       'Television Movie',\n",
       "       'Actress In A Supporting Role - Series Or Television Movie',\n",
       "       'Actress In A Leading Role - Drama Series Or Television Movie',\n",
       "       'Actor In A Leading Role - Drama Series Or Television Movie',\n",
       "       'Actor In A Leading Role - Musical Or Comedy Series Or Television Movie',\n",
       "       'Actor In A Supporting Role - Series Or Television Movie',\n",
       "       'Actress In A Leading Role - Musical Or Comedy Series Or Television Movie',\n",
       "       'Best Performance by an Actress in a Motion Picture - Musical or Comedy',\n",
       "       'Best Performance by an Actress in a Supporting Role in a Series, Limited Series or Motion Picture Made for Television',\n",
       "       'Best Performance by an Actor in a Supporting Role in a Series, Limited Series or Motion Picture Made for Television',\n",
       "       'Television Special - Variety Or Musical',\n",
       "       'Best Television Limited Series or Motion Picture Made for Television',\n",
       "       'Best Performance by an Actress in a Limited Series or a Motion Picture Made for Television',\n",
       "       'Best Performance by an Actor in a Limited Series or a Motion Picture Made for Television',\n",
       "       'Best Motion Picture - Animated', 'Carol Burnett Award'],\n",
       "      dtype=object)"
      ]
     },
     "execution_count": 7,
     "metadata": {},
     "output_type": "execute_result"
    }
   ],
   "source": [
    "data.category.unique()"
   ]
  },
  {
   "cell_type": "markdown",
   "metadata": {},
   "source": [
    "### 3a. Dataset yang terdapat Null Values"
   ]
  },
  {
   "cell_type": "code",
   "execution_count": 8,
   "metadata": {},
   "outputs": [],
   "source": [
    "data_with_NaN = data[data.isnull().any(axis=1)]"
   ]
  },
  {
   "cell_type": "code",
   "execution_count": 9,
   "metadata": {},
   "outputs": [
    {
     "data": {
      "text/html": [
       "<div>\n",
       "<style scoped>\n",
       "    .dataframe tbody tr th:only-of-type {\n",
       "        vertical-align: middle;\n",
       "    }\n",
       "\n",
       "    .dataframe tbody tr th {\n",
       "        vertical-align: top;\n",
       "    }\n",
       "\n",
       "    .dataframe thead th {\n",
       "        text-align: right;\n",
       "    }\n",
       "</style>\n",
       "<table border=\"1\" class=\"dataframe\">\n",
       "  <thead>\n",
       "    <tr style=\"text-align: right;\">\n",
       "      <th></th>\n",
       "      <th>year_film</th>\n",
       "      <th>year_award</th>\n",
       "      <th>ceremony</th>\n",
       "      <th>category</th>\n",
       "      <th>nominee</th>\n",
       "      <th>film</th>\n",
       "      <th>win</th>\n",
       "    </tr>\n",
       "  </thead>\n",
       "  <tbody>\n",
       "    <tr>\n",
       "      <th>3</th>\n",
       "      <td>1943</td>\n",
       "      <td>1944</td>\n",
       "      <td>1</td>\n",
       "      <td>Picture</td>\n",
       "      <td>The Song Of Bernadette</td>\n",
       "      <td>NaN</td>\n",
       "      <td>True</td>\n",
       "    </tr>\n",
       "    <tr>\n",
       "      <th>9</th>\n",
       "      <td>1944</td>\n",
       "      <td>1945</td>\n",
       "      <td>2</td>\n",
       "      <td>Picture</td>\n",
       "      <td>Going My Way</td>\n",
       "      <td>NaN</td>\n",
       "      <td>True</td>\n",
       "    </tr>\n",
       "    <tr>\n",
       "      <th>16</th>\n",
       "      <td>1945</td>\n",
       "      <td>1946</td>\n",
       "      <td>3</td>\n",
       "      <td>Picture</td>\n",
       "      <td>The Lost Weekend</td>\n",
       "      <td>NaN</td>\n",
       "      <td>True</td>\n",
       "    </tr>\n",
       "    <tr>\n",
       "      <th>24</th>\n",
       "      <td>1946</td>\n",
       "      <td>1947</td>\n",
       "      <td>4</td>\n",
       "      <td>Picture</td>\n",
       "      <td>The Best Years Of Our Lives</td>\n",
       "      <td>NaN</td>\n",
       "      <td>True</td>\n",
       "    </tr>\n",
       "    <tr>\n",
       "      <th>35</th>\n",
       "      <td>1947</td>\n",
       "      <td>1948</td>\n",
       "      <td>5</td>\n",
       "      <td>Picture</td>\n",
       "      <td>Gentleman's Agreement</td>\n",
       "      <td>NaN</td>\n",
       "      <td>True</td>\n",
       "    </tr>\n",
       "    <tr>\n",
       "      <th>46</th>\n",
       "      <td>1948</td>\n",
       "      <td>1949</td>\n",
       "      <td>6</td>\n",
       "      <td>Picture</td>\n",
       "      <td>Johnny Belinda</td>\n",
       "      <td>NaN</td>\n",
       "      <td>True</td>\n",
       "    </tr>\n",
       "    <tr>\n",
       "      <th>47</th>\n",
       "      <td>1948</td>\n",
       "      <td>1949</td>\n",
       "      <td>6</td>\n",
       "      <td>Picture</td>\n",
       "      <td>The Treasure of the Sierra Madre</td>\n",
       "      <td>NaN</td>\n",
       "      <td>True</td>\n",
       "    </tr>\n",
       "    <tr>\n",
       "      <th>71</th>\n",
       "      <td>1949</td>\n",
       "      <td>1950</td>\n",
       "      <td>7</td>\n",
       "      <td>Outstanding Use Of Color</td>\n",
       "      <td>The Adventures of Ichabod and Mr. Toad</td>\n",
       "      <td>NaN</td>\n",
       "      <td>True</td>\n",
       "    </tr>\n",
       "    <tr>\n",
       "      <th>72</th>\n",
       "      <td>1949</td>\n",
       "      <td>1950</td>\n",
       "      <td>7</td>\n",
       "      <td>Outstanding Use Of Color</td>\n",
       "      <td>On The Town</td>\n",
       "      <td>NaN</td>\n",
       "      <td>False</td>\n",
       "    </tr>\n",
       "    <tr>\n",
       "      <th>73</th>\n",
       "      <td>1949</td>\n",
       "      <td>1950</td>\n",
       "      <td>7</td>\n",
       "      <td>Picture</td>\n",
       "      <td>All The King's Men</td>\n",
       "      <td>NaN</td>\n",
       "      <td>True</td>\n",
       "    </tr>\n",
       "  </tbody>\n",
       "</table>\n",
       "</div>"
      ],
      "text/plain": [
       "    year_film  year_award  ceremony                  category  \\\n",
       "3        1943        1944         1                   Picture   \n",
       "9        1944        1945         2                   Picture   \n",
       "16       1945        1946         3                   Picture   \n",
       "24       1946        1947         4                   Picture   \n",
       "35       1947        1948         5                   Picture   \n",
       "46       1948        1949         6                   Picture   \n",
       "47       1948        1949         6                   Picture   \n",
       "71       1949        1950         7  Outstanding Use Of Color   \n",
       "72       1949        1950         7  Outstanding Use Of Color   \n",
       "73       1949        1950         7                   Picture   \n",
       "\n",
       "                                   nominee film    win  \n",
       "3                   The Song Of Bernadette  NaN   True  \n",
       "9                             Going My Way  NaN   True  \n",
       "16                        The Lost Weekend  NaN   True  \n",
       "24             The Best Years Of Our Lives  NaN   True  \n",
       "35                   Gentleman's Agreement  NaN   True  \n",
       "46                          Johnny Belinda  NaN   True  \n",
       "47        The Treasure of the Sierra Madre  NaN   True  \n",
       "71  The Adventures of Ichabod and Mr. Toad  NaN   True  \n",
       "72                             On The Town  NaN  False  \n",
       "73                      All The King's Men  NaN   True  "
      ]
     },
     "execution_count": 9,
     "metadata": {},
     "output_type": "execute_result"
    }
   ],
   "source": [
    "pd.DataFrame(data_with_NaN).head(10)"
   ]
  },
  {
   "cell_type": "code",
   "execution_count": 10,
   "metadata": {},
   "outputs": [
    {
     "data": {
      "text/plain": [
       "array(['Picture', 'Outstanding Use Of Color',\n",
       "       'Henrietta Award (World Film Favorites)',\n",
       "       'Best Motion Picture - Drama',\n",
       "       'Best Motion Picture - Musical or Comedy',\n",
       "       'Henrietta Award (World Film Favorite)', 'Cecil B. deMille Award',\n",
       "       'Documentary', 'Hollywood Citizenship Award',\n",
       "       'Television Achievement', 'Special Achievement Award',\n",
       "       'New Foreign Star Of The Year - Actress',\n",
       "       'New Foreign Star Of The Year - Actor',\n",
       "       'New Star Of The Year - Actress', 'Picture - Musical',\n",
       "       'Picture - Comedy', 'Famous Silent Filmstars', 'Television Series',\n",
       "       'Actor In A Television Series', 'Actress In A Television Series',\n",
       "       'Best Television Series - Drama', 'Television Program',\n",
       "       'Television Series - Comedy', 'International News Coverage',\n",
       "       'Television Series - Variety',\n",
       "       'Best Television Series - Musical or Comedy', 'Television Movie',\n",
       "       'Television Special - Variety Or Musical',\n",
       "       'Best Television Limited Series or Motion Picture Made for Television',\n",
       "       'Best Performance by an Actor in a Television Series - Musical or Comedy',\n",
       "       'Best Performance by an Actress in a Motion Picture - Drama',\n",
       "       'Best Motion Picture - Animated',\n",
       "       'Best Performance by an Actor in a Supporting Role in a Series, Limited Series or Motion Picture Made for Television',\n",
       "       'Carol Burnett Award'], dtype=object)"
      ]
     },
     "execution_count": 10,
     "metadata": {},
     "output_type": "execute_result"
    }
   ],
   "source": [
    "data_with_NaN['category'].unique()"
   ]
  },
  {
   "cell_type": "code",
   "execution_count": 11,
   "metadata": {},
   "outputs": [
    {
     "data": {
      "text/html": [
       "<div>\n",
       "<style scoped>\n",
       "    .dataframe tbody tr th:only-of-type {\n",
       "        vertical-align: middle;\n",
       "    }\n",
       "\n",
       "    .dataframe tbody tr th {\n",
       "        vertical-align: top;\n",
       "    }\n",
       "\n",
       "    .dataframe thead th {\n",
       "        text-align: right;\n",
       "    }\n",
       "</style>\n",
       "<table border=\"1\" class=\"dataframe\">\n",
       "  <thead>\n",
       "    <tr style=\"text-align: right;\">\n",
       "      <th></th>\n",
       "      <th>category</th>\n",
       "      <th>nomination</th>\n",
       "    </tr>\n",
       "  </thead>\n",
       "  <tbody>\n",
       "    <tr>\n",
       "      <th>0</th>\n",
       "      <td>Best Motion Picture - Drama</td>\n",
       "      <td>351</td>\n",
       "    </tr>\n",
       "    <tr>\n",
       "      <th>1</th>\n",
       "      <td>Best Motion Picture - Musical or Comedy</td>\n",
       "      <td>306</td>\n",
       "    </tr>\n",
       "    <tr>\n",
       "      <th>2</th>\n",
       "      <td>Best Television Series - Drama</td>\n",
       "      <td>269</td>\n",
       "    </tr>\n",
       "    <tr>\n",
       "      <th>3</th>\n",
       "      <td>Best Television Series - Musical or Comedy</td>\n",
       "      <td>263</td>\n",
       "    </tr>\n",
       "    <tr>\n",
       "      <th>4</th>\n",
       "      <td>Best Television Limited Series or Motion Pictu...</td>\n",
       "      <td>198</td>\n",
       "    </tr>\n",
       "    <tr>\n",
       "      <th>5</th>\n",
       "      <td>Cecil B. deMille Award</td>\n",
       "      <td>68</td>\n",
       "    </tr>\n",
       "    <tr>\n",
       "      <th>6</th>\n",
       "      <td>Henrietta Award (World Film Favorites)</td>\n",
       "      <td>64</td>\n",
       "    </tr>\n",
       "    <tr>\n",
       "      <th>7</th>\n",
       "      <td>Best Motion Picture - Animated</td>\n",
       "      <td>62</td>\n",
       "    </tr>\n",
       "    <tr>\n",
       "      <th>8</th>\n",
       "      <td>Television Movie</td>\n",
       "      <td>43</td>\n",
       "    </tr>\n",
       "    <tr>\n",
       "      <th>9</th>\n",
       "      <td>Documentary</td>\n",
       "      <td>28</td>\n",
       "    </tr>\n",
       "  </tbody>\n",
       "</table>\n",
       "</div>"
      ],
      "text/plain": [
       "                                            category  nomination\n",
       "0                        Best Motion Picture - Drama         351\n",
       "1            Best Motion Picture - Musical or Comedy         306\n",
       "2                     Best Television Series - Drama         269\n",
       "3         Best Television Series - Musical or Comedy         263\n",
       "4  Best Television Limited Series or Motion Pictu...         198\n",
       "5                             Cecil B. deMille Award          68\n",
       "6             Henrietta Award (World Film Favorites)          64\n",
       "7                     Best Motion Picture - Animated          62\n",
       "8                                   Television Movie          43\n",
       "9                                        Documentary          28"
      ]
     },
     "execution_count": 11,
     "metadata": {},
     "output_type": "execute_result"
    }
   ],
   "source": [
    "category_with_NaN = data_with_NaN.category.value_counts().reset_index()\n",
    "category_with_NaN.columns = ['category', 'nomination'] \n",
    "category_with_NaN.head(10)"
   ]
  },
  {
   "cell_type": "code",
   "execution_count": 12,
   "metadata": {},
   "outputs": [],
   "source": [
    "data_clean = data.replace(np.nan, 'non film', regex=True)"
   ]
  },
  {
   "cell_type": "code",
   "execution_count": 13,
   "metadata": {},
   "outputs": [
    {
     "data": {
      "text/plain": [
       "year_film     0\n",
       "year_award    0\n",
       "ceremony      0\n",
       "category      0\n",
       "nominee       0\n",
       "film          0\n",
       "win           0\n",
       "dtype: int64"
      ]
     },
     "execution_count": 13,
     "metadata": {},
     "output_type": "execute_result"
    }
   ],
   "source": [
    "data_clean.isnull().sum()"
   ]
  },
  {
   "cell_type": "markdown",
   "metadata": {},
   "source": [
    "### 3b. Dataset yang hanya berisi pemenang saja"
   ]
  },
  {
   "cell_type": "code",
   "execution_count": 14,
   "metadata": {},
   "outputs": [
    {
     "data": {
      "text/html": [
       "<div>\n",
       "<style scoped>\n",
       "    .dataframe tbody tr th:only-of-type {\n",
       "        vertical-align: middle;\n",
       "    }\n",
       "\n",
       "    .dataframe tbody tr th {\n",
       "        vertical-align: top;\n",
       "    }\n",
       "\n",
       "    .dataframe thead th {\n",
       "        text-align: right;\n",
       "    }\n",
       "</style>\n",
       "<table border=\"1\" class=\"dataframe\">\n",
       "  <thead>\n",
       "    <tr style=\"text-align: right;\">\n",
       "      <th></th>\n",
       "      <th>year_film</th>\n",
       "      <th>year_award</th>\n",
       "      <th>ceremony</th>\n",
       "      <th>category</th>\n",
       "      <th>nominee</th>\n",
       "      <th>film</th>\n",
       "      <th>win</th>\n",
       "    </tr>\n",
       "  </thead>\n",
       "  <tbody>\n",
       "    <tr>\n",
       "      <th>2042</th>\n",
       "      <td>1973</td>\n",
       "      <td>1974</td>\n",
       "      <td>31</td>\n",
       "      <td>Best Motion Picture - Musical or Comedy</td>\n",
       "      <td>American Graffiti</td>\n",
       "      <td>non film</td>\n",
       "      <td>True</td>\n",
       "    </tr>\n",
       "    <tr>\n",
       "      <th>4342</th>\n",
       "      <td>1991</td>\n",
       "      <td>1992</td>\n",
       "      <td>49</td>\n",
       "      <td>Best Performance by an Actress in a Motion Pic...</td>\n",
       "      <td>Jodie Foster</td>\n",
       "      <td>Silence of the Lambs, The</td>\n",
       "      <td>True</td>\n",
       "    </tr>\n",
       "    <tr>\n",
       "      <th>1527</th>\n",
       "      <td>1969</td>\n",
       "      <td>1970</td>\n",
       "      <td>27</td>\n",
       "      <td>Best Performance by an Actor in a Motion Pictu...</td>\n",
       "      <td>John Wayne</td>\n",
       "      <td>True Grit</td>\n",
       "      <td>True</td>\n",
       "    </tr>\n",
       "    <tr>\n",
       "      <th>5066</th>\n",
       "      <td>1996</td>\n",
       "      <td>1997</td>\n",
       "      <td>54</td>\n",
       "      <td>Best Performance by an Actor in a Television S...</td>\n",
       "      <td>John Lithgow</td>\n",
       "      <td>3rd Rock From The Sun</td>\n",
       "      <td>True</td>\n",
       "    </tr>\n",
       "    <tr>\n",
       "      <th>7611</th>\n",
       "      <td>2017</td>\n",
       "      <td>2018</td>\n",
       "      <td>75</td>\n",
       "      <td>Best Motion Picture - Drama</td>\n",
       "      <td>Three Billboards Outside Ebbing, Missouri</td>\n",
       "      <td>non film</td>\n",
       "      <td>True</td>\n",
       "    </tr>\n",
       "    <tr>\n",
       "      <th>307</th>\n",
       "      <td>1955</td>\n",
       "      <td>1956</td>\n",
       "      <td>13</td>\n",
       "      <td>Hollywood Citizenship Award</td>\n",
       "      <td>Esther Williams</td>\n",
       "      <td>non film</td>\n",
       "      <td>True</td>\n",
       "    </tr>\n",
       "    <tr>\n",
       "      <th>4409</th>\n",
       "      <td>1991</td>\n",
       "      <td>1992</td>\n",
       "      <td>49</td>\n",
       "      <td>Best Television Limited Series or Motion Pictu...</td>\n",
       "      <td>One Against The Wind</td>\n",
       "      <td>non film</td>\n",
       "      <td>True</td>\n",
       "    </tr>\n",
       "    <tr>\n",
       "      <th>2392</th>\n",
       "      <td>1975</td>\n",
       "      <td>1976</td>\n",
       "      <td>33</td>\n",
       "      <td>Best Performance by an Actor in a Supporting R...</td>\n",
       "      <td>Tim Conway</td>\n",
       "      <td>Carol Burnett Show, The</td>\n",
       "      <td>True</td>\n",
       "    </tr>\n",
       "    <tr>\n",
       "      <th>6433</th>\n",
       "      <td>2007</td>\n",
       "      <td>2008</td>\n",
       "      <td>65</td>\n",
       "      <td>Best Performance by an Actress in a Limited Se...</td>\n",
       "      <td>Queen Latifah</td>\n",
       "      <td>Life Support</td>\n",
       "      <td>True</td>\n",
       "    </tr>\n",
       "    <tr>\n",
       "      <th>5369</th>\n",
       "      <td>1999</td>\n",
       "      <td>2000</td>\n",
       "      <td>57</td>\n",
       "      <td>Best Performance by an Actor in a Supporting R...</td>\n",
       "      <td>Tom Cruise</td>\n",
       "      <td>Magnolia</td>\n",
       "      <td>True</td>\n",
       "    </tr>\n",
       "  </tbody>\n",
       "</table>\n",
       "</div>"
      ],
      "text/plain": [
       "      year_film  year_award  ceremony  \\\n",
       "2042       1973        1974        31   \n",
       "4342       1991        1992        49   \n",
       "1527       1969        1970        27   \n",
       "5066       1996        1997        54   \n",
       "7611       2017        2018        75   \n",
       "307        1955        1956        13   \n",
       "4409       1991        1992        49   \n",
       "2392       1975        1976        33   \n",
       "6433       2007        2008        65   \n",
       "5369       1999        2000        57   \n",
       "\n",
       "                                               category  \\\n",
       "2042            Best Motion Picture - Musical or Comedy   \n",
       "4342  Best Performance by an Actress in a Motion Pic...   \n",
       "1527  Best Performance by an Actor in a Motion Pictu...   \n",
       "5066  Best Performance by an Actor in a Television S...   \n",
       "7611                        Best Motion Picture - Drama   \n",
       "307                         Hollywood Citizenship Award   \n",
       "4409  Best Television Limited Series or Motion Pictu...   \n",
       "2392  Best Performance by an Actor in a Supporting R...   \n",
       "6433  Best Performance by an Actress in a Limited Se...   \n",
       "5369  Best Performance by an Actor in a Supporting R...   \n",
       "\n",
       "                                        nominee                       film  \\\n",
       "2042                          American Graffiti                   non film   \n",
       "4342                               Jodie Foster  Silence of the Lambs, The   \n",
       "1527                                 John Wayne                  True Grit   \n",
       "5066                               John Lithgow      3rd Rock From The Sun   \n",
       "7611  Three Billboards Outside Ebbing, Missouri                   non film   \n",
       "307                             Esther Williams                   non film   \n",
       "4409                       One Against The Wind                   non film   \n",
       "2392                                 Tim Conway    Carol Burnett Show, The   \n",
       "6433                              Queen Latifah               Life Support   \n",
       "5369                                 Tom Cruise                   Magnolia   \n",
       "\n",
       "       win  \n",
       "2042  True  \n",
       "4342  True  \n",
       "1527  True  \n",
       "5066  True  \n",
       "7611  True  \n",
       "307   True  \n",
       "4409  True  \n",
       "2392  True  \n",
       "6433  True  \n",
       "5369  True  "
      ]
     },
     "execution_count": 14,
     "metadata": {},
     "output_type": "execute_result"
    }
   ],
   "source": [
    "data_win = data_clean.loc[data_clean.win==True]\n",
    "data_win.sample(10)"
   ]
  },
  {
   "cell_type": "markdown",
   "metadata": {},
   "source": [
    "### 4. Tren Nominasi"
   ]
  },
  {
   "cell_type": "code",
   "execution_count": 15,
   "metadata": {},
   "outputs": [
    {
     "data": {
      "text/plain": [
       "Text(0, 0.5, 'Nominations')"
      ]
     },
     "execution_count": 15,
     "metadata": {},
     "output_type": "execute_result"
    },
    {
     "data": {
      "image/png": "[encoded data removed]",
      "text/plain": [
       "<Figure size 720x360 with 1 Axes>"
      ]
     },
     "metadata": {
      "needs_background": "light"
     },
     "output_type": "display_data"
    }
   ],
   "source": [
    "plt.figure(figsize=(10,5))\n",
    "df = data_clean['year_award'].value_counts()\n",
    "sns.lineplot(x=df.index, y=df.values)\n",
    "plt.xticks()\n",
    "plt.yticks()\n",
    "plt.xlabel(\"Year\")\n",
    "plt.ylabel(\"Nominations\")"
   ]
  },
  {
   "cell_type": "markdown",
   "metadata": {},
   "source": [
    "### 5. Visualisasi Nominasi Kategori Teratas"
   ]
  },
  {
   "cell_type": "code",
   "execution_count": 16,
   "metadata": {},
   "outputs": [
    {
     "data": {
      "text/html": [
       "<div>\n",
       "<style scoped>\n",
       "    .dataframe tbody tr th:only-of-type {\n",
       "        vertical-align: middle;\n",
       "    }\n",
       "\n",
       "    .dataframe tbody tr th {\n",
       "        vertical-align: top;\n",
       "    }\n",
       "\n",
       "    .dataframe thead th {\n",
       "        text-align: right;\n",
       "    }\n",
       "</style>\n",
       "<table border=\"1\" class=\"dataframe\">\n",
       "  <thead>\n",
       "    <tr style=\"text-align: right;\">\n",
       "      <th></th>\n",
       "      <th>index</th>\n",
       "      <th>category</th>\n",
       "    </tr>\n",
       "  </thead>\n",
       "  <tbody>\n",
       "    <tr>\n",
       "      <th>0</th>\n",
       "      <td>Best Performance by an Actress in a Supporting...</td>\n",
       "      <td>360</td>\n",
       "    </tr>\n",
       "    <tr>\n",
       "      <th>1</th>\n",
       "      <td>Best Director - Motion Picture</td>\n",
       "      <td>357</td>\n",
       "    </tr>\n",
       "    <tr>\n",
       "      <th>2</th>\n",
       "      <td>Best Performance by an Actor in a Supporting R...</td>\n",
       "      <td>352</td>\n",
       "    </tr>\n",
       "    <tr>\n",
       "      <th>3</th>\n",
       "      <td>Best Motion Picture - Drama</td>\n",
       "      <td>351</td>\n",
       "    </tr>\n",
       "    <tr>\n",
       "      <th>4</th>\n",
       "      <td>Best Performance by an Actor in a Motion Pictu...</td>\n",
       "      <td>344</td>\n",
       "    </tr>\n",
       "    <tr>\n",
       "      <th>5</th>\n",
       "      <td>Best Performance by an Actress in a Motion Pic...</td>\n",
       "      <td>342</td>\n",
       "    </tr>\n",
       "    <tr>\n",
       "      <th>6</th>\n",
       "      <td>Best Performance by an Actor in a Motion Pictu...</td>\n",
       "      <td>342</td>\n",
       "    </tr>\n",
       "    <tr>\n",
       "      <th>7</th>\n",
       "      <td>Best Original Score - Motion Picture</td>\n",
       "      <td>320</td>\n",
       "    </tr>\n",
       "    <tr>\n",
       "      <th>8</th>\n",
       "      <td>Best Motion Picture - Musical or Comedy</td>\n",
       "      <td>306</td>\n",
       "    </tr>\n",
       "    <tr>\n",
       "      <th>9</th>\n",
       "      <td>Best Screenplay - Motion Picture</td>\n",
       "      <td>293</td>\n",
       "    </tr>\n",
       "  </tbody>\n",
       "</table>\n",
       "</div>"
      ],
      "text/plain": [
       "                                               index  category\n",
       "0  Best Performance by an Actress in a Supporting...       360\n",
       "1                     Best Director - Motion Picture       357\n",
       "2  Best Performance by an Actor in a Supporting R...       352\n",
       "3                        Best Motion Picture - Drama       351\n",
       "4  Best Performance by an Actor in a Motion Pictu...       344\n",
       "5  Best Performance by an Actress in a Motion Pic...       342\n",
       "6  Best Performance by an Actor in a Motion Pictu...       342\n",
       "7               Best Original Score - Motion Picture       320\n",
       "8            Best Motion Picture - Musical or Comedy       306\n",
       "9                   Best Screenplay - Motion Picture       293"
      ]
     },
     "execution_count": 16,
     "metadata": {},
     "output_type": "execute_result"
    }
   ],
   "source": [
    "Top_Category = data_clean.category.value_counts().reset_index()\n",
    "Top_Category.head(10)"
   ]
  },
  {
   "cell_type": "code",
   "execution_count": 17,
   "metadata": {},
   "outputs": [
    {
     "data": {
      "text/plain": [
       "Text(0, 0.5, 'Category')"
      ]
     },
     "execution_count": 17,
     "metadata": {},
     "output_type": "execute_result"
    },
    {
     "data": {
      "image/png": "[encoded data removed]",
      "text/plain": [
       "<Figure size 864x360 with 1 Axes>"
      ]
     },
     "metadata": {
      "needs_background": "light"
     },
     "output_type": "display_data"
    }
   ],
   "source": [
    "Top_10_Categories=Top_Category.head(10)\n",
    "plt.figure(figsize=(12,5))\n",
    "plt.title('Top 10 Total Categories')\n",
    "sns.barplot(y='index',x='category', data=Top_10_Categories, palette = 'magma')\n",
    "plt.xlabel('Count')\n",
    "plt.ylabel('Category')"
   ]
  },
  {
   "cell_type": "markdown",
   "metadata": {},
   "source": [
    "### 6. Visualisasi Nama Nominasi Teratas"
   ]
  },
  {
   "cell_type": "code",
   "execution_count": 18,
   "metadata": {},
   "outputs": [
    {
     "data": {
      "text/html": [
       "<div>\n",
       "<style scoped>\n",
       "    .dataframe tbody tr th:only-of-type {\n",
       "        vertical-align: middle;\n",
       "    }\n",
       "\n",
       "    .dataframe tbody tr th {\n",
       "        vertical-align: top;\n",
       "    }\n",
       "\n",
       "    .dataframe thead th {\n",
       "        text-align: right;\n",
       "    }\n",
       "</style>\n",
       "<table border=\"1\" class=\"dataframe\">\n",
       "  <thead>\n",
       "    <tr style=\"text-align: right;\">\n",
       "      <th></th>\n",
       "      <th>index</th>\n",
       "      <th>nominee</th>\n",
       "    </tr>\n",
       "  </thead>\n",
       "  <tbody>\n",
       "    <tr>\n",
       "      <th>0</th>\n",
       "      <td>Meryl Streep</td>\n",
       "      <td>33</td>\n",
       "    </tr>\n",
       "    <tr>\n",
       "      <th>1</th>\n",
       "      <td>Jack Lemmon</td>\n",
       "      <td>23</td>\n",
       "    </tr>\n",
       "    <tr>\n",
       "      <th>2</th>\n",
       "      <td>John Williams</td>\n",
       "      <td>23</td>\n",
       "    </tr>\n",
       "    <tr>\n",
       "      <th>3</th>\n",
       "      <td>Shirley MacLaine</td>\n",
       "      <td>21</td>\n",
       "    </tr>\n",
       "    <tr>\n",
       "      <th>4</th>\n",
       "      <td>Al Pacino</td>\n",
       "      <td>19</td>\n",
       "    </tr>\n",
       "    <tr>\n",
       "      <th>5</th>\n",
       "      <td>Jack Nicholson</td>\n",
       "      <td>18</td>\n",
       "    </tr>\n",
       "    <tr>\n",
       "      <th>6</th>\n",
       "      <td>Carol Burnett</td>\n",
       "      <td>17</td>\n",
       "    </tr>\n",
       "    <tr>\n",
       "      <th>7</th>\n",
       "      <td>Barbra Streisand</td>\n",
       "      <td>16</td>\n",
       "    </tr>\n",
       "    <tr>\n",
       "      <th>8</th>\n",
       "      <td>Paul Newman</td>\n",
       "      <td>16</td>\n",
       "    </tr>\n",
       "    <tr>\n",
       "      <th>9</th>\n",
       "      <td>Helen Mirren</td>\n",
       "      <td>16</td>\n",
       "    </tr>\n",
       "  </tbody>\n",
       "</table>\n",
       "</div>"
      ],
      "text/plain": [
       "              index  nominee\n",
       "0      Meryl Streep       33\n",
       "1       Jack Lemmon       23\n",
       "2     John Williams       23\n",
       "3  Shirley MacLaine       21\n",
       "4         Al Pacino       19\n",
       "5    Jack Nicholson       18\n",
       "6     Carol Burnett       17\n",
       "7  Barbra Streisand       16\n",
       "8       Paul Newman       16\n",
       "9      Helen Mirren       16"
      ]
     },
     "execution_count": 18,
     "metadata": {},
     "output_type": "execute_result"
    }
   ],
   "source": [
    "Top_Nominee = data_clean.nominee.value_counts().reset_index()\n",
    "Top_Nominee.head(10)"
   ]
  },
  {
   "cell_type": "code",
   "execution_count": 19,
   "metadata": {},
   "outputs": [
    {
     "data": {
      "text/plain": [
       "Text(0, 0.5, 'Nominee')"
      ]
     },
     "execution_count": 19,
     "metadata": {},
     "output_type": "execute_result"
    },
    {
     "data": {
      "image/png": "[encoded data removed]",
      "text/plain": [
       "<Figure size 864x360 with 1 Axes>"
      ]
     },
     "metadata": {
      "needs_background": "light"
     },
     "output_type": "display_data"
    }
   ],
   "source": [
    "Top_10_Nominees=Top_Nominee.head(10)\n",
    "plt.figure(figsize=(12,5))\n",
    "plt.title('Top 10 Total Nominees')\n",
    "sns.barplot(y='index',x='nominee', data=Top_10_Nominees, palette = 'magma')\n",
    "plt.xlabel('Count')\n",
    "plt.ylabel('Nominee')"
   ]
  },
  {
   "cell_type": "markdown",
   "metadata": {},
   "source": [
    "### 7. Visualisasi Nama Pemenang Terbanyak"
   ]
  },
  {
   "cell_type": "code",
   "execution_count": 20,
   "metadata": {},
   "outputs": [
    {
     "data": {
      "text/html": [
       "<div>\n",
       "<style scoped>\n",
       "    .dataframe tbody tr th:only-of-type {\n",
       "        vertical-align: middle;\n",
       "    }\n",
       "\n",
       "    .dataframe tbody tr th {\n",
       "        vertical-align: top;\n",
       "    }\n",
       "\n",
       "    .dataframe thead th {\n",
       "        text-align: right;\n",
       "    }\n",
       "</style>\n",
       "<table border=\"1\" class=\"dataframe\">\n",
       "  <thead>\n",
       "    <tr style=\"text-align: right;\">\n",
       "      <th></th>\n",
       "      <th>name</th>\n",
       "      <th>nomination</th>\n",
       "    </tr>\n",
       "  </thead>\n",
       "  <tbody>\n",
       "    <tr>\n",
       "      <th>0</th>\n",
       "      <td>Meryl Streep</td>\n",
       "      <td>8</td>\n",
       "    </tr>\n",
       "    <tr>\n",
       "      <th>1</th>\n",
       "      <td>Barbra Streisand</td>\n",
       "      <td>7</td>\n",
       "    </tr>\n",
       "    <tr>\n",
       "      <th>2</th>\n",
       "      <td>Jane Fonda</td>\n",
       "      <td>7</td>\n",
       "    </tr>\n",
       "    <tr>\n",
       "      <th>3</th>\n",
       "      <td>Alan Alda</td>\n",
       "      <td>6</td>\n",
       "    </tr>\n",
       "    <tr>\n",
       "      <th>4</th>\n",
       "      <td>Jack Nicholson</td>\n",
       "      <td>6</td>\n",
       "    </tr>\n",
       "    <tr>\n",
       "      <th>5</th>\n",
       "      <td>Angela Lansbury</td>\n",
       "      <td>6</td>\n",
       "    </tr>\n",
       "    <tr>\n",
       "      <th>6</th>\n",
       "      <td>Paul Newman</td>\n",
       "      <td>6</td>\n",
       "    </tr>\n",
       "    <tr>\n",
       "      <th>7</th>\n",
       "      <td>Laura Dern</td>\n",
       "      <td>5</td>\n",
       "    </tr>\n",
       "    <tr>\n",
       "      <th>8</th>\n",
       "      <td>Dustin Hoffman</td>\n",
       "      <td>5</td>\n",
       "    </tr>\n",
       "    <tr>\n",
       "      <th>9</th>\n",
       "      <td>Robert Redford</td>\n",
       "      <td>5</td>\n",
       "    </tr>\n",
       "  </tbody>\n",
       "</table>\n",
       "</div>"
      ],
      "text/plain": [
       "               name  nomination\n",
       "0      Meryl Streep           8\n",
       "1  Barbra Streisand           7\n",
       "2        Jane Fonda           7\n",
       "3         Alan Alda           6\n",
       "4    Jack Nicholson           6\n",
       "5   Angela Lansbury           6\n",
       "6       Paul Newman           6\n",
       "7        Laura Dern           5\n",
       "8    Dustin Hoffman           5\n",
       "9    Robert Redford           5"
      ]
     },
     "execution_count": 20,
     "metadata": {},
     "output_type": "execute_result"
    }
   ],
   "source": [
    "TopWinners=data_win.nominee.value_counts().reset_index()\n",
    "TopWinners.columns = ['name', 'nomination']\n",
    "TopWinners.head(10)"
   ]
  },
  {
   "cell_type": "code",
   "execution_count": 21,
   "metadata": {
    "scrolled": false
   },
   "outputs": [
    {
     "data": {
      "text/plain": [
       "Text(0, 0.5, 'Nominee')"
      ]
     },
     "execution_count": 21,
     "metadata": {},
     "output_type": "execute_result"
    },
    {
     "data": {
      "image/png": "[encoded data removed]",
      "text/plain": [
       "<Figure size 864x360 with 1 Axes>"
      ]
     },
     "metadata": {
      "needs_background": "light"
     },
     "output_type": "display_data"
    }
   ],
   "source": [
    "Top_10_Winners=TopWinners.head(10)\n",
    "plt.figure(figsize=(12,5))\n",
    "plt.title('Top 10 Total Winners')\n",
    "sns.barplot(y='name',x='nomination', data=Top_10_Winners, palette = 'magma')\n",
    "plt.xlabel('Count')\n",
    "plt.ylabel('Nominee')"
   ]
  },
  {
   "cell_type": "markdown",
   "metadata": {},
   "source": [
    "### 8. Visualisasi Film Pemenang Terbanyak"
   ]
  },
  {
   "cell_type": "code",
   "execution_count": 22,
   "metadata": {},
   "outputs": [
    {
     "data": {
      "text/html": [
       "<div>\n",
       "<style scoped>\n",
       "    .dataframe tbody tr th:only-of-type {\n",
       "        vertical-align: middle;\n",
       "    }\n",
       "\n",
       "    .dataframe tbody tr th {\n",
       "        vertical-align: top;\n",
       "    }\n",
       "\n",
       "    .dataframe thead th {\n",
       "        text-align: right;\n",
       "    }\n",
       "</style>\n",
       "<table border=\"1\" class=\"dataframe\">\n",
       "  <thead>\n",
       "    <tr style=\"text-align: right;\">\n",
       "      <th></th>\n",
       "      <th>name</th>\n",
       "      <th>nomination</th>\n",
       "    </tr>\n",
       "  </thead>\n",
       "  <tbody>\n",
       "    <tr>\n",
       "      <th>0</th>\n",
       "      <td>Meryl Streep</td>\n",
       "      <td>8</td>\n",
       "    </tr>\n",
       "    <tr>\n",
       "      <th>1</th>\n",
       "      <td>Barbra Streisand</td>\n",
       "      <td>7</td>\n",
       "    </tr>\n",
       "    <tr>\n",
       "      <th>2</th>\n",
       "      <td>Jane Fonda</td>\n",
       "      <td>7</td>\n",
       "    </tr>\n",
       "    <tr>\n",
       "      <th>3</th>\n",
       "      <td>Alan Alda</td>\n",
       "      <td>6</td>\n",
       "    </tr>\n",
       "    <tr>\n",
       "      <th>4</th>\n",
       "      <td>Jack Nicholson</td>\n",
       "      <td>6</td>\n",
       "    </tr>\n",
       "    <tr>\n",
       "      <th>5</th>\n",
       "      <td>Angela Lansbury</td>\n",
       "      <td>6</td>\n",
       "    </tr>\n",
       "    <tr>\n",
       "      <th>6</th>\n",
       "      <td>Paul Newman</td>\n",
       "      <td>6</td>\n",
       "    </tr>\n",
       "    <tr>\n",
       "      <th>7</th>\n",
       "      <td>Laura Dern</td>\n",
       "      <td>5</td>\n",
       "    </tr>\n",
       "    <tr>\n",
       "      <th>8</th>\n",
       "      <td>Dustin Hoffman</td>\n",
       "      <td>5</td>\n",
       "    </tr>\n",
       "    <tr>\n",
       "      <th>9</th>\n",
       "      <td>Robert Redford</td>\n",
       "      <td>5</td>\n",
       "    </tr>\n",
       "  </tbody>\n",
       "</table>\n",
       "</div>"
      ],
      "text/plain": [
       "               name  nomination\n",
       "0      Meryl Streep           8\n",
       "1  Barbra Streisand           7\n",
       "2        Jane Fonda           7\n",
       "3         Alan Alda           6\n",
       "4    Jack Nicholson           6\n",
       "5   Angela Lansbury           6\n",
       "6       Paul Newman           6\n",
       "7        Laura Dern           5\n",
       "8    Dustin Hoffman           5\n",
       "9    Robert Redford           5"
      ]
     },
     "execution_count": 22,
     "metadata": {},
     "output_type": "execute_result"
    }
   ],
   "source": [
    "TopWinners=data_win.nominee.value_counts().reset_index()\n",
    "TopWinners.columns = ['name', 'nomination']\n",
    "TopWinners.head(10)"
   ]
  },
  {
   "cell_type": "code",
   "execution_count": 23,
   "metadata": {},
   "outputs": [
    {
     "data": {
      "text/html": [
       "<div>\n",
       "<style scoped>\n",
       "    .dataframe tbody tr th:only-of-type {\n",
       "        vertical-align: middle;\n",
       "    }\n",
       "\n",
       "    .dataframe tbody tr th {\n",
       "        vertical-align: top;\n",
       "    }\n",
       "\n",
       "    .dataframe thead th {\n",
       "        text-align: right;\n",
       "    }\n",
       "</style>\n",
       "<table border=\"1\" class=\"dataframe\">\n",
       "  <thead>\n",
       "    <tr style=\"text-align: right;\">\n",
       "      <th></th>\n",
       "      <th>film</th>\n",
       "      <th>nomination</th>\n",
       "    </tr>\n",
       "  </thead>\n",
       "  <tbody>\n",
       "    <tr>\n",
       "      <th>0</th>\n",
       "      <td>non film</td>\n",
       "      <td>1800</td>\n",
       "    </tr>\n",
       "    <tr>\n",
       "      <th>1</th>\n",
       "      <td>L.A. Law</td>\n",
       "      <td>26</td>\n",
       "    </tr>\n",
       "    <tr>\n",
       "      <th>2</th>\n",
       "      <td>All In The Family</td>\n",
       "      <td>23</td>\n",
       "    </tr>\n",
       "    <tr>\n",
       "      <th>3</th>\n",
       "      <td>Will &amp; Grace</td>\n",
       "      <td>23</td>\n",
       "    </tr>\n",
       "    <tr>\n",
       "      <th>4</th>\n",
       "      <td>Cheers</td>\n",
       "      <td>22</td>\n",
       "    </tr>\n",
       "    <tr>\n",
       "      <th>5</th>\n",
       "      <td>Taxi</td>\n",
       "      <td>20</td>\n",
       "    </tr>\n",
       "    <tr>\n",
       "      <th>6</th>\n",
       "      <td>Carol Burnett Show, The</td>\n",
       "      <td>19</td>\n",
       "    </tr>\n",
       "    <tr>\n",
       "      <th>7</th>\n",
       "      <td>Dynasty (1981-1989)</td>\n",
       "      <td>19</td>\n",
       "    </tr>\n",
       "    <tr>\n",
       "      <th>8</th>\n",
       "      <td>Sex and The City</td>\n",
       "      <td>18</td>\n",
       "    </tr>\n",
       "    <tr>\n",
       "      <th>9</th>\n",
       "      <td>Sopranos, The</td>\n",
       "      <td>18</td>\n",
       "    </tr>\n",
       "  </tbody>\n",
       "</table>\n",
       "</div>"
      ],
      "text/plain": [
       "                      film  nomination\n",
       "0                 non film        1800\n",
       "1                 L.A. Law          26\n",
       "2        All In The Family          23\n",
       "3             Will & Grace          23\n",
       "4                   Cheers          22\n",
       "5                     Taxi          20\n",
       "6  Carol Burnett Show, The          19\n",
       "7      Dynasty (1981-1989)          19\n",
       "8         Sex and The City          18\n",
       "9            Sopranos, The          18"
      ]
     },
     "execution_count": 23,
     "metadata": {},
     "output_type": "execute_result"
    }
   ],
   "source": [
    "nominee_film=data_clean['film'].value_counts().reset_index()\n",
    "nominee_film.columns =['film', 'nomination'] \n",
    "nominee_film.head(10)"
   ]
  },
  {
   "cell_type": "code",
   "execution_count": 24,
   "metadata": {},
   "outputs": [
    {
     "data": {
      "text/html": [
       "<div>\n",
       "<style scoped>\n",
       "    .dataframe tbody tr th:only-of-type {\n",
       "        vertical-align: middle;\n",
       "    }\n",
       "\n",
       "    .dataframe tbody tr th {\n",
       "        vertical-align: top;\n",
       "    }\n",
       "\n",
       "    .dataframe thead th {\n",
       "        text-align: right;\n",
       "    }\n",
       "</style>\n",
       "<table border=\"1\" class=\"dataframe\">\n",
       "  <thead>\n",
       "    <tr style=\"text-align: right;\">\n",
       "      <th></th>\n",
       "      <th>film</th>\n",
       "      <th>nomination</th>\n",
       "    </tr>\n",
       "  </thead>\n",
       "  <tbody>\n",
       "    <tr>\n",
       "      <th>0</th>\n",
       "      <td>L.A. Law</td>\n",
       "      <td>26</td>\n",
       "    </tr>\n",
       "    <tr>\n",
       "      <th>1</th>\n",
       "      <td>All In The Family</td>\n",
       "      <td>23</td>\n",
       "    </tr>\n",
       "    <tr>\n",
       "      <th>2</th>\n",
       "      <td>Will &amp; Grace</td>\n",
       "      <td>23</td>\n",
       "    </tr>\n",
       "    <tr>\n",
       "      <th>3</th>\n",
       "      <td>Cheers</td>\n",
       "      <td>22</td>\n",
       "    </tr>\n",
       "    <tr>\n",
       "      <th>4</th>\n",
       "      <td>Taxi</td>\n",
       "      <td>20</td>\n",
       "    </tr>\n",
       "    <tr>\n",
       "      <th>5</th>\n",
       "      <td>Carol Burnett Show, The</td>\n",
       "      <td>19</td>\n",
       "    </tr>\n",
       "    <tr>\n",
       "      <th>6</th>\n",
       "      <td>Dynasty (1981-1989)</td>\n",
       "      <td>19</td>\n",
       "    </tr>\n",
       "    <tr>\n",
       "      <th>7</th>\n",
       "      <td>Sex and The City</td>\n",
       "      <td>18</td>\n",
       "    </tr>\n",
       "    <tr>\n",
       "      <th>8</th>\n",
       "      <td>Sopranos, The</td>\n",
       "      <td>18</td>\n",
       "    </tr>\n",
       "    <tr>\n",
       "      <th>9</th>\n",
       "      <td>ER</td>\n",
       "      <td>18</td>\n",
       "    </tr>\n",
       "  </tbody>\n",
       "</table>\n",
       "</div>"
      ],
      "text/plain": [
       "                      film  nomination\n",
       "0                 L.A. Law          26\n",
       "1        All In The Family          23\n",
       "2             Will & Grace          23\n",
       "3                   Cheers          22\n",
       "4                     Taxi          20\n",
       "5  Carol Burnett Show, The          19\n",
       "6      Dynasty (1981-1989)          19\n",
       "7         Sex and The City          18\n",
       "8            Sopranos, The          18\n",
       "9                       ER          18"
      ]
     },
     "execution_count": 24,
     "metadata": {},
     "output_type": "execute_result"
    }
   ],
   "source": [
    "nominee_film = nominee_film[nominee_film.film != 'non film'].head(10).reset_index(drop=True)\n",
    "nominee_film"
   ]
  },
  {
   "cell_type": "code",
   "execution_count": 25,
   "metadata": {},
   "outputs": [
    {
     "data": {
      "text/plain": [
       "Text(0, 0.5, 'Film')"
      ]
     },
     "execution_count": 25,
     "metadata": {},
     "output_type": "execute_result"
    },
    {
     "data": {
      "image/png": "[encoded data removed]",
      "text/plain": [
       "<Figure size 864x360 with 1 Axes>"
      ]
     },
     "metadata": {
      "needs_background": "light"
     },
     "output_type": "display_data"
    }
   ],
   "source": [
    "plt.figure(figsize=(12,5))\n",
    "plt.title('Top 10 Total Winners')\n",
    "sns.barplot(y='film',x='nomination', data=nominee_film, palette = 'magma')\n",
    "plt.xlabel('Count')\n",
    "plt.ylabel('Film')"
   ]
  },
  {
   "cell_type": "markdown",
   "metadata": {},
   "source": [
    "### 9. Persentase Kemenangan Teratas Tiap Nominasi (minimal 15 kali masuk nominasi)"
   ]
  },
  {
   "cell_type": "code",
   "execution_count": 26,
   "metadata": {},
   "outputs": [],
   "source": [
    "total_nominee = data_clean.nominee.value_counts().reset_index()\n",
    "total_winner = data_win.nominee.value_counts().reset_index()\n",
    "wr = total_nominee.merge(total_winner, how = 'inner', on = 'index')\n",
    "wr.columns = ['Name', 'Total_Nominees', 'Total_Winners']"
   ]
  },
  {
   "cell_type": "code",
   "execution_count": 27,
   "metadata": {},
   "outputs": [],
   "source": [
    "wr = wr.sort_values(by='Total_Nominees', ascending=False).head(10)\n",
    "wr['Win_Rate(%)'] = round((wr['Total_Winners'] / wr['Total_Nominees'])*100, 2)"
   ]
  },
  {
   "cell_type": "code",
   "execution_count": 28,
   "metadata": {},
   "outputs": [
    {
     "data": {
      "text/html": [
       "<div>\n",
       "<style scoped>\n",
       "    .dataframe tbody tr th:only-of-type {\n",
       "        vertical-align: middle;\n",
       "    }\n",
       "\n",
       "    .dataframe tbody tr th {\n",
       "        vertical-align: top;\n",
       "    }\n",
       "\n",
       "    .dataframe thead th {\n",
       "        text-align: right;\n",
       "    }\n",
       "</style>\n",
       "<table border=\"1\" class=\"dataframe\">\n",
       "  <thead>\n",
       "    <tr style=\"text-align: right;\">\n",
       "      <th></th>\n",
       "      <th>Name</th>\n",
       "      <th>Total_Nominees</th>\n",
       "      <th>Total_Winners</th>\n",
       "      <th>Win_Rate(%)</th>\n",
       "    </tr>\n",
       "  </thead>\n",
       "  <tbody>\n",
       "    <tr>\n",
       "      <th>0</th>\n",
       "      <td>Barbra Streisand</td>\n",
       "      <td>16</td>\n",
       "      <td>7</td>\n",
       "      <td>43.75</td>\n",
       "    </tr>\n",
       "    <tr>\n",
       "      <th>1</th>\n",
       "      <td>Paul Newman</td>\n",
       "      <td>16</td>\n",
       "      <td>6</td>\n",
       "      <td>37.50</td>\n",
       "    </tr>\n",
       "    <tr>\n",
       "      <th>2</th>\n",
       "      <td>Jack Nicholson</td>\n",
       "      <td>18</td>\n",
       "      <td>6</td>\n",
       "      <td>33.33</td>\n",
       "    </tr>\n",
       "    <tr>\n",
       "      <th>3</th>\n",
       "      <td>Carol Burnett</td>\n",
       "      <td>17</td>\n",
       "      <td>5</td>\n",
       "      <td>29.41</td>\n",
       "    </tr>\n",
       "    <tr>\n",
       "      <th>4</th>\n",
       "      <td>Meryl Streep</td>\n",
       "      <td>33</td>\n",
       "      <td>8</td>\n",
       "      <td>24.24</td>\n",
       "    </tr>\n",
       "    <tr>\n",
       "      <th>5</th>\n",
       "      <td>Shirley MacLaine</td>\n",
       "      <td>21</td>\n",
       "      <td>5</td>\n",
       "      <td>23.81</td>\n",
       "    </tr>\n",
       "    <tr>\n",
       "      <th>6</th>\n",
       "      <td>Al Pacino</td>\n",
       "      <td>19</td>\n",
       "      <td>4</td>\n",
       "      <td>21.05</td>\n",
       "    </tr>\n",
       "    <tr>\n",
       "      <th>7</th>\n",
       "      <td>Helen Mirren</td>\n",
       "      <td>16</td>\n",
       "      <td>3</td>\n",
       "      <td>18.75</td>\n",
       "    </tr>\n",
       "    <tr>\n",
       "      <th>8</th>\n",
       "      <td>Jack Lemmon</td>\n",
       "      <td>23</td>\n",
       "      <td>4</td>\n",
       "      <td>17.39</td>\n",
       "    </tr>\n",
       "    <tr>\n",
       "      <th>9</th>\n",
       "      <td>John Williams</td>\n",
       "      <td>23</td>\n",
       "      <td>4</td>\n",
       "      <td>17.39</td>\n",
       "    </tr>\n",
       "  </tbody>\n",
       "</table>\n",
       "</div>"
      ],
      "text/plain": [
       "               Name  Total_Nominees  Total_Winners  Win_Rate(%)\n",
       "0  Barbra Streisand              16              7        43.75\n",
       "1       Paul Newman              16              6        37.50\n",
       "2    Jack Nicholson              18              6        33.33\n",
       "3     Carol Burnett              17              5        29.41\n",
       "4      Meryl Streep              33              8        24.24\n",
       "5  Shirley MacLaine              21              5        23.81\n",
       "6         Al Pacino              19              4        21.05\n",
       "7      Helen Mirren              16              3        18.75\n",
       "8       Jack Lemmon              23              4        17.39\n",
       "9     John Williams              23              4        17.39"
      ]
     },
     "execution_count": 28,
     "metadata": {},
     "output_type": "execute_result"
    }
   ],
   "source": [
    "wr[wr['Total_Nominees'] >= 15].sort_values(by='Win_Rate(%)', ascending=False).reset_index(drop=True)"
   ]
  },
  {
   "cell_type": "markdown",
   "metadata": {},
   "source": [
    "# Terima Kasih"
   ]
  }
 ],
 "metadata": {
  "kernelspec": {
   "display_name": "Python 3",
   "language": "python",
   "name": "python3"
  },
  "language_info": {
   "codemirror_mode": {
    "name": "ipython",
    "version": 3
   },
   "file_extension": ".py",
   "mimetype": "text/x-python",
   "name": "python",
   "nbconvert_exporter": "python",
   "pygments_lexer": "ipython3",
   "version": "3.7.3"
  }
 },
 "nbformat": 4,
 "nbformat_minor": 2
}
