{
 "cells": [
  {
   "cell_type": "markdown",
   "metadata": {},
   "source": [
    "# Project EDA (Golden Globe Awards) - Kelompok 7"
   ]
  },
  {
   "cell_type": "markdown",
   "metadata": {},
   "source": [
    "### 1. Import Package yang akan digunakan"
   ]
  },
  {
   "cell_type": "code",
   "execution_count": 1,
   "metadata": {},
   "outputs": [],
   "source": [
    "import pandas as pd\n",
    "import numpy as np\n",
    "%matplotlib inline\n",
    "import matplotlib.pyplot as plt\n",
    "import seaborn as sns"
   ]
  },
  {
   "cell_type": "markdown",
   "metadata": {},
   "source": [
    "### 2. Import Data"
   ]
  },
  {
   "cell_type": "markdown",
   "metadata": {},
   "source": [
    "#### https://www.kaggle.com/unanimad/golden-globe-awards"
   ]
  },
  {
   "cell_type": "code",
   "execution_count": 2,
   "metadata": {},
   "outputs": [],
   "source": [
    "data = pd.read_csv('Kelompok 7 Golden Globe Awards.csv')"
   ]
  },
  {
   "cell_type": "code",
   "execution_count": 3,
   "metadata": {},
   "outputs": [
    {
     "data": {
      "text/html": [
       "<div>\n",
       "<style scoped>\n",
       "    .dataframe tbody tr th:only-of-type {\n",
       "        vertical-align: middle;\n",
       "    }\n",
       "\n",
       "    .dataframe tbody tr th {\n",
       "        vertical-align: top;\n",
       "    }\n",
       "\n",
       "    .dataframe thead th {\n",
       "        text-align: right;\n",
       "    }\n",
       "</style>\n",
       "<table border=\"1\" class=\"dataframe\">\n",
       "  <thead>\n",
       "    <tr style=\"text-align: right;\">\n",
       "      <th></th>\n",
       "      <th>year_film</th>\n",
       "      <th>year_award</th>\n",
       "      <th>ceremony</th>\n",
       "      <th>category</th>\n",
       "      <th>nominee</th>\n",
       "      <th>film</th>\n",
       "      <th>win</th>\n",
       "    </tr>\n",
       "  </thead>\n",
       "  <tbody>\n",
       "    <tr>\n",
       "      <th>0</th>\n",
       "      <td>1943</td>\n",
       "      <td>1944</td>\n",
       "      <td>1</td>\n",
       "      <td>Best Performance by an Actress in a Supporting...</td>\n",
       "      <td>Katina Paxinou</td>\n",
       "      <td>For Whom The Bell Tolls</td>\n",
       "      <td>True</td>\n",
       "    </tr>\n",
       "    <tr>\n",
       "      <th>1</th>\n",
       "      <td>1943</td>\n",
       "      <td>1944</td>\n",
       "      <td>1</td>\n",
       "      <td>Best Performance by an Actor in a Supporting R...</td>\n",
       "      <td>Akim Tamiroff</td>\n",
       "      <td>For Whom The Bell Tolls</td>\n",
       "      <td>True</td>\n",
       "    </tr>\n",
       "    <tr>\n",
       "      <th>2</th>\n",
       "      <td>1943</td>\n",
       "      <td>1944</td>\n",
       "      <td>1</td>\n",
       "      <td>Best Director - Motion Picture</td>\n",
       "      <td>Henry King</td>\n",
       "      <td>The Song Of Bernadette</td>\n",
       "      <td>True</td>\n",
       "    </tr>\n",
       "    <tr>\n",
       "      <th>3</th>\n",
       "      <td>1943</td>\n",
       "      <td>1944</td>\n",
       "      <td>1</td>\n",
       "      <td>Picture</td>\n",
       "      <td>The Song Of Bernadette</td>\n",
       "      <td>NaN</td>\n",
       "      <td>True</td>\n",
       "    </tr>\n",
       "    <tr>\n",
       "      <th>4</th>\n",
       "      <td>1943</td>\n",
       "      <td>1944</td>\n",
       "      <td>1</td>\n",
       "      <td>Actress In A Leading Role</td>\n",
       "      <td>Jennifer Jones</td>\n",
       "      <td>The Song Of Bernadette</td>\n",
       "      <td>True</td>\n",
       "    </tr>\n",
       "  </tbody>\n",
       "</table>\n",
       "</div>"
      ],
      "text/plain": [
       "   year_film  year_award  ceremony  \\\n",
       "0       1943        1944         1   \n",
       "1       1943        1944         1   \n",
       "2       1943        1944         1   \n",
       "3       1943        1944         1   \n",
       "4       1943        1944         1   \n",
       "\n",
       "                                            category                 nominee  \\\n",
       "0  Best Performance by an Actress in a Supporting...          Katina Paxinou   \n",
       "1  Best Performance by an Actor in a Supporting R...           Akim Tamiroff   \n",
       "2                     Best Director - Motion Picture              Henry King   \n",
       "3                                            Picture  The Song Of Bernadette   \n",
       "4                          Actress In A Leading Role          Jennifer Jones   \n",
       "\n",
       "                      film   win  \n",
       "0  For Whom The Bell Tolls  True  \n",
       "1  For Whom The Bell Tolls  True  \n",
       "2   The Song Of Bernadette  True  \n",
       "3                      NaN  True  \n",
       "4   The Song Of Bernadette  True  "
      ]
     },
     "execution_count": 3,
     "metadata": {},
     "output_type": "execute_result"
    }
   ],
   "source": [
    "data.head(5)"
   ]
  },
  {
   "cell_type": "markdown",
   "metadata": {},
   "source": [
    "- year_film : tahun film release\n",
    "- year_award : tahun penghargaan\n",
    "- ceremony : perayaan keberapa\n",
    "- category : kategori yang dinominasikan\n",
    "- nominee : nama aktor/aktris/dsb yang masuk nominasi\n",
    "- film : nama film dari tiap nominasi\n",
    "- win : apakah nominasi menang atau tidak"
   ]
  },
  {
   "cell_type": "markdown",
   "metadata": {},
   "source": [
    "### 3. Deskripsi Data"
   ]
  },
  {
   "cell_type": "code",
   "execution_count": 4,
   "metadata": {},
   "outputs": [
    {
     "name": "stdout",
     "output_type": "stream",
     "text": [
      "<class 'pandas.core.frame.DataFrame'>\n",
      "RangeIndex: 7991 entries, 0 to 7990\n",
      "Data columns (total 7 columns):\n",
      "year_film     7991 non-null int64\n",
      "year_award    7991 non-null int64\n",
      "ceremony      7991 non-null int64\n",
      "category      7991 non-null object\n",
      "nominee       7991 non-null object\n",
      "film          6191 non-null object\n",
      "win           7991 non-null bool\n",
      "dtypes: bool(1), int64(3), object(3)\n",
      "memory usage: 382.5+ KB\n"
     ]
    }
   ],
   "source": [
    "data.info()"
   ]
  },
  {
   "cell_type": "code",
   "execution_count": 5,
   "metadata": {},
   "outputs": [
    {
     "data": {
      "text/html": [
       "<div>\n",
       "<style scoped>\n",
       "    .dataframe tbody tr th:only-of-type {\n",
       "        vertical-align: middle;\n",
       "    }\n",
       "\n",
       "    .dataframe tbody tr th {\n",
       "        vertical-align: top;\n",
       "    }\n",
       "\n",
       "    .dataframe thead th {\n",
       "        text-align: right;\n",
       "    }\n",
       "</style>\n",
       "<table border=\"1\" class=\"dataframe\">\n",
       "  <thead>\n",
       "    <tr style=\"text-align: right;\">\n",
       "      <th></th>\n",
       "      <th>year_film</th>\n",
       "      <th>year_award</th>\n",
       "      <th>ceremony</th>\n",
       "    </tr>\n",
       "  </thead>\n",
       "  <tbody>\n",
       "    <tr>\n",
       "      <th>count</th>\n",
       "      <td>7991.000000</td>\n",
       "      <td>7991.000000</td>\n",
       "      <td>7991.000000</td>\n",
       "    </tr>\n",
       "    <tr>\n",
       "      <th>mean</th>\n",
       "      <td>1987.490552</td>\n",
       "      <td>1988.490552</td>\n",
       "      <td>45.490552</td>\n",
       "    </tr>\n",
       "    <tr>\n",
       "      <th>std</th>\n",
       "      <td>18.936258</td>\n",
       "      <td>18.936258</td>\n",
       "      <td>18.936258</td>\n",
       "    </tr>\n",
       "    <tr>\n",
       "      <th>min</th>\n",
       "      <td>1943.000000</td>\n",
       "      <td>1944.000000</td>\n",
       "      <td>1.000000</td>\n",
       "    </tr>\n",
       "    <tr>\n",
       "      <th>25%</th>\n",
       "      <td>1972.000000</td>\n",
       "      <td>1973.000000</td>\n",
       "      <td>30.000000</td>\n",
       "    </tr>\n",
       "    <tr>\n",
       "      <th>50%</th>\n",
       "      <td>1988.000000</td>\n",
       "      <td>1989.000000</td>\n",
       "      <td>46.000000</td>\n",
       "    </tr>\n",
       "    <tr>\n",
       "      <th>75%</th>\n",
       "      <td>2004.000000</td>\n",
       "      <td>2005.000000</td>\n",
       "      <td>62.000000</td>\n",
       "    </tr>\n",
       "    <tr>\n",
       "      <th>max</th>\n",
       "      <td>2019.000000</td>\n",
       "      <td>2020.000000</td>\n",
       "      <td>77.000000</td>\n",
       "    </tr>\n",
       "  </tbody>\n",
       "</table>\n",
       "</div>"
      ],
      "text/plain": [
       "         year_film   year_award     ceremony\n",
       "count  7991.000000  7991.000000  7991.000000\n",
       "mean   1987.490552  1988.490552    45.490552\n",
       "std      18.936258    18.936258    18.936258\n",
       "min    1943.000000  1944.000000     1.000000\n",
       "25%    1972.000000  1973.000000    30.000000\n",
       "50%    1988.000000  1989.000000    46.000000\n",
       "75%    2004.000000  2005.000000    62.000000\n",
       "max    2019.000000  2020.000000    77.000000"
      ]
     },
     "execution_count": 5,
     "metadata": {},
     "output_type": "execute_result"
    }
   ],
   "source": [
    "data.describe()"
   ]
  },
  {
   "cell_type": "code",
   "execution_count": 6,
   "metadata": {},
   "outputs": [
    {
     "data": {
      "text/plain": [
       "year_film        0\n",
       "year_award       0\n",
       "ceremony         0\n",
       "category         0\n",
       "nominee          0\n",
       "film          1800\n",
       "win              0\n",
       "dtype: int64"
      ]
     },
     "execution_count": 6,
     "metadata": {},
     "output_type": "execute_result"
    }
   ],
   "source": [
    "data.isnull().sum()"
   ]
  },
  {
   "cell_type": "markdown",
   "metadata": {},
   "source": [
    "### 3a. Dataset yang terdapat Null Values"
   ]
  },
  {
   "cell_type": "code",
   "execution_count": 7,
   "metadata": {},
   "outputs": [],
   "source": [
    "data_with_NaN = data[data.isnull().any(axis=1)]"
   ]
  },
  {
   "cell_type": "code",
   "execution_count": 8,
   "metadata": {},
   "outputs": [
    {
     "data": {
      "text/html": [
       "<div>\n",
       "<style scoped>\n",
       "    .dataframe tbody tr th:only-of-type {\n",
       "        vertical-align: middle;\n",
       "    }\n",
       "\n",
       "    .dataframe tbody tr th {\n",
       "        vertical-align: top;\n",
       "    }\n",
       "\n",
       "    .dataframe thead th {\n",
       "        text-align: right;\n",
       "    }\n",
       "</style>\n",
       "<table border=\"1\" class=\"dataframe\">\n",
       "  <thead>\n",
       "    <tr style=\"text-align: right;\">\n",
       "      <th></th>\n",
       "      <th>year_film</th>\n",
       "      <th>year_award</th>\n",
       "      <th>ceremony</th>\n",
       "      <th>category</th>\n",
       "      <th>nominee</th>\n",
       "      <th>film</th>\n",
       "      <th>win</th>\n",
       "    </tr>\n",
       "  </thead>\n",
       "  <tbody>\n",
       "    <tr>\n",
       "      <th>3</th>\n",
       "      <td>1943</td>\n",
       "      <td>1944</td>\n",
       "      <td>1</td>\n",
       "      <td>Picture</td>\n",
       "      <td>The Song Of Bernadette</td>\n",
       "      <td>NaN</td>\n",
       "      <td>True</td>\n",
       "    </tr>\n",
       "    <tr>\n",
       "      <th>9</th>\n",
       "      <td>1944</td>\n",
       "      <td>1945</td>\n",
       "      <td>2</td>\n",
       "      <td>Picture</td>\n",
       "      <td>Going My Way</td>\n",
       "      <td>NaN</td>\n",
       "      <td>True</td>\n",
       "    </tr>\n",
       "    <tr>\n",
       "      <th>16</th>\n",
       "      <td>1945</td>\n",
       "      <td>1946</td>\n",
       "      <td>3</td>\n",
       "      <td>Picture</td>\n",
       "      <td>The Lost Weekend</td>\n",
       "      <td>NaN</td>\n",
       "      <td>True</td>\n",
       "    </tr>\n",
       "    <tr>\n",
       "      <th>24</th>\n",
       "      <td>1946</td>\n",
       "      <td>1947</td>\n",
       "      <td>4</td>\n",
       "      <td>Picture</td>\n",
       "      <td>The Best Years Of Our Lives</td>\n",
       "      <td>NaN</td>\n",
       "      <td>True</td>\n",
       "    </tr>\n",
       "    <tr>\n",
       "      <th>35</th>\n",
       "      <td>1947</td>\n",
       "      <td>1948</td>\n",
       "      <td>5</td>\n",
       "      <td>Picture</td>\n",
       "      <td>Gentleman's Agreement</td>\n",
       "      <td>NaN</td>\n",
       "      <td>True</td>\n",
       "    </tr>\n",
       "    <tr>\n",
       "      <th>46</th>\n",
       "      <td>1948</td>\n",
       "      <td>1949</td>\n",
       "      <td>6</td>\n",
       "      <td>Picture</td>\n",
       "      <td>Johnny Belinda</td>\n",
       "      <td>NaN</td>\n",
       "      <td>True</td>\n",
       "    </tr>\n",
       "    <tr>\n",
       "      <th>47</th>\n",
       "      <td>1948</td>\n",
       "      <td>1949</td>\n",
       "      <td>6</td>\n",
       "      <td>Picture</td>\n",
       "      <td>The Treasure of the Sierra Madre</td>\n",
       "      <td>NaN</td>\n",
       "      <td>True</td>\n",
       "    </tr>\n",
       "    <tr>\n",
       "      <th>71</th>\n",
       "      <td>1949</td>\n",
       "      <td>1950</td>\n",
       "      <td>7</td>\n",
       "      <td>Outstanding Use Of Color</td>\n",
       "      <td>The Adventures of Ichabod and Mr. Toad</td>\n",
       "      <td>NaN</td>\n",
       "      <td>True</td>\n",
       "    </tr>\n",
       "    <tr>\n",
       "      <th>72</th>\n",
       "      <td>1949</td>\n",
       "      <td>1950</td>\n",
       "      <td>7</td>\n",
       "      <td>Outstanding Use Of Color</td>\n",
       "      <td>On The Town</td>\n",
       "      <td>NaN</td>\n",
       "      <td>False</td>\n",
       "    </tr>\n",
       "    <tr>\n",
       "      <th>73</th>\n",
       "      <td>1949</td>\n",
       "      <td>1950</td>\n",
       "      <td>7</td>\n",
       "      <td>Picture</td>\n",
       "      <td>All The King's Men</td>\n",
       "      <td>NaN</td>\n",
       "      <td>True</td>\n",
       "    </tr>\n",
       "  </tbody>\n",
       "</table>\n",
       "</div>"
      ],
      "text/plain": [
       "    year_film  year_award  ceremony                  category  \\\n",
       "3        1943        1944         1                   Picture   \n",
       "9        1944        1945         2                   Picture   \n",
       "16       1945        1946         3                   Picture   \n",
       "24       1946        1947         4                   Picture   \n",
       "35       1947        1948         5                   Picture   \n",
       "46       1948        1949         6                   Picture   \n",
       "47       1948        1949         6                   Picture   \n",
       "71       1949        1950         7  Outstanding Use Of Color   \n",
       "72       1949        1950         7  Outstanding Use Of Color   \n",
       "73       1949        1950         7                   Picture   \n",
       "\n",
       "                                   nominee film    win  \n",
       "3                   The Song Of Bernadette  NaN   True  \n",
       "9                             Going My Way  NaN   True  \n",
       "16                        The Lost Weekend  NaN   True  \n",
       "24             The Best Years Of Our Lives  NaN   True  \n",
       "35                   Gentleman's Agreement  NaN   True  \n",
       "46                          Johnny Belinda  NaN   True  \n",
       "47        The Treasure of the Sierra Madre  NaN   True  \n",
       "71  The Adventures of Ichabod and Mr. Toad  NaN   True  \n",
       "72                             On The Town  NaN  False  \n",
       "73                      All The King's Men  NaN   True  "
      ]
     },
     "execution_count": 8,
     "metadata": {},
     "output_type": "execute_result"
    }
   ],
   "source": [
    "pd.DataFrame(data_with_NaN).head(10)"
   ]
  },
  {
   "cell_type": "code",
   "execution_count": 9,
   "metadata": {},
   "outputs": [
    {
     "data": {
      "text/html": [
       "<div>\n",
       "<style scoped>\n",
       "    .dataframe tbody tr th:only-of-type {\n",
       "        vertical-align: middle;\n",
       "    }\n",
       "\n",
       "    .dataframe tbody tr th {\n",
       "        vertical-align: top;\n",
       "    }\n",
       "\n",
       "    .dataframe thead th {\n",
       "        text-align: right;\n",
       "    }\n",
       "</style>\n",
       "<table border=\"1\" class=\"dataframe\">\n",
       "  <thead>\n",
       "    <tr style=\"text-align: right;\">\n",
       "      <th></th>\n",
       "      <th>category</th>\n",
       "    </tr>\n",
       "  </thead>\n",
       "  <tbody>\n",
       "    <tr>\n",
       "      <th>0</th>\n",
       "      <td>Picture</td>\n",
       "    </tr>\n",
       "    <tr>\n",
       "      <th>1</th>\n",
       "      <td>Outstanding Use Of Color</td>\n",
       "    </tr>\n",
       "    <tr>\n",
       "      <th>2</th>\n",
       "      <td>Henrietta Award (World Film Favorites)</td>\n",
       "    </tr>\n",
       "    <tr>\n",
       "      <th>3</th>\n",
       "      <td>Best Motion Picture - Drama</td>\n",
       "    </tr>\n",
       "    <tr>\n",
       "      <th>4</th>\n",
       "      <td>Best Motion Picture - Musical or Comedy</td>\n",
       "    </tr>\n",
       "    <tr>\n",
       "      <th>5</th>\n",
       "      <td>Henrietta Award (World Film Favorite)</td>\n",
       "    </tr>\n",
       "    <tr>\n",
       "      <th>6</th>\n",
       "      <td>Cecil B. deMille Award</td>\n",
       "    </tr>\n",
       "    <tr>\n",
       "      <th>7</th>\n",
       "      <td>Documentary</td>\n",
       "    </tr>\n",
       "    <tr>\n",
       "      <th>8</th>\n",
       "      <td>Hollywood Citizenship Award</td>\n",
       "    </tr>\n",
       "    <tr>\n",
       "      <th>9</th>\n",
       "      <td>Television Achievement</td>\n",
       "    </tr>\n",
       "    <tr>\n",
       "      <th>10</th>\n",
       "      <td>Special Achievement Award</td>\n",
       "    </tr>\n",
       "    <tr>\n",
       "      <th>11</th>\n",
       "      <td>New Foreign Star Of The Year - Actress</td>\n",
       "    </tr>\n",
       "    <tr>\n",
       "      <th>12</th>\n",
       "      <td>New Foreign Star Of The Year - Actor</td>\n",
       "    </tr>\n",
       "    <tr>\n",
       "      <th>13</th>\n",
       "      <td>New Star Of The Year - Actress</td>\n",
       "    </tr>\n",
       "    <tr>\n",
       "      <th>14</th>\n",
       "      <td>Picture - Musical</td>\n",
       "    </tr>\n",
       "    <tr>\n",
       "      <th>15</th>\n",
       "      <td>Picture - Comedy</td>\n",
       "    </tr>\n",
       "    <tr>\n",
       "      <th>16</th>\n",
       "      <td>Famous Silent Filmstars</td>\n",
       "    </tr>\n",
       "    <tr>\n",
       "      <th>17</th>\n",
       "      <td>Television Series</td>\n",
       "    </tr>\n",
       "    <tr>\n",
       "      <th>18</th>\n",
       "      <td>Actor In A Television Series</td>\n",
       "    </tr>\n",
       "    <tr>\n",
       "      <th>19</th>\n",
       "      <td>Actress In A Television Series</td>\n",
       "    </tr>\n",
       "    <tr>\n",
       "      <th>20</th>\n",
       "      <td>Best Television Series - Drama</td>\n",
       "    </tr>\n",
       "    <tr>\n",
       "      <th>21</th>\n",
       "      <td>Television Program</td>\n",
       "    </tr>\n",
       "    <tr>\n",
       "      <th>22</th>\n",
       "      <td>Television Series - Comedy</td>\n",
       "    </tr>\n",
       "    <tr>\n",
       "      <th>23</th>\n",
       "      <td>International News Coverage</td>\n",
       "    </tr>\n",
       "    <tr>\n",
       "      <th>24</th>\n",
       "      <td>Television Series - Variety</td>\n",
       "    </tr>\n",
       "    <tr>\n",
       "      <th>25</th>\n",
       "      <td>Best Television Series - Musical or Comedy</td>\n",
       "    </tr>\n",
       "    <tr>\n",
       "      <th>26</th>\n",
       "      <td>Television Movie</td>\n",
       "    </tr>\n",
       "    <tr>\n",
       "      <th>27</th>\n",
       "      <td>Television Special - Variety Or Musical</td>\n",
       "    </tr>\n",
       "    <tr>\n",
       "      <th>28</th>\n",
       "      <td>Best Television Limited Series or Motion Pictu...</td>\n",
       "    </tr>\n",
       "    <tr>\n",
       "      <th>29</th>\n",
       "      <td>Best Performance by an Actor in a Television S...</td>\n",
       "    </tr>\n",
       "    <tr>\n",
       "      <th>30</th>\n",
       "      <td>Best Performance by an Actress in a Motion Pic...</td>\n",
       "    </tr>\n",
       "    <tr>\n",
       "      <th>31</th>\n",
       "      <td>Best Motion Picture - Animated</td>\n",
       "    </tr>\n",
       "    <tr>\n",
       "      <th>32</th>\n",
       "      <td>Best Performance by an Actor in a Supporting R...</td>\n",
       "    </tr>\n",
       "    <tr>\n",
       "      <th>33</th>\n",
       "      <td>Carol Burnett Award</td>\n",
       "    </tr>\n",
       "  </tbody>\n",
       "</table>\n",
       "</div>"
      ],
      "text/plain": [
       "                                             category\n",
       "0                                             Picture\n",
       "1                            Outstanding Use Of Color\n",
       "2              Henrietta Award (World Film Favorites)\n",
       "3                         Best Motion Picture - Drama\n",
       "4             Best Motion Picture - Musical or Comedy\n",
       "5               Henrietta Award (World Film Favorite)\n",
       "6                              Cecil B. deMille Award\n",
       "7                                         Documentary\n",
       "8                         Hollywood Citizenship Award\n",
       "9                              Television Achievement\n",
       "10                          Special Achievement Award\n",
       "11             New Foreign Star Of The Year - Actress\n",
       "12               New Foreign Star Of The Year - Actor\n",
       "13                     New Star Of The Year - Actress\n",
       "14                                  Picture - Musical\n",
       "15                                   Picture - Comedy\n",
       "16                            Famous Silent Filmstars\n",
       "17                                  Television Series\n",
       "18                       Actor In A Television Series\n",
       "19                     Actress In A Television Series\n",
       "20                     Best Television Series - Drama\n",
       "21                                 Television Program\n",
       "22                         Television Series - Comedy\n",
       "23                        International News Coverage\n",
       "24                        Television Series - Variety\n",
       "25         Best Television Series - Musical or Comedy\n",
       "26                                   Television Movie\n",
       "27            Television Special - Variety Or Musical\n",
       "28  Best Television Limited Series or Motion Pictu...\n",
       "29  Best Performance by an Actor in a Television S...\n",
       "30  Best Performance by an Actress in a Motion Pic...\n",
       "31                     Best Motion Picture - Animated\n",
       "32  Best Performance by an Actor in a Supporting R...\n",
       "33                                Carol Burnett Award"
      ]
     },
     "execution_count": 9,
     "metadata": {},
     "output_type": "execute_result"
    }
   ],
   "source": [
    "pd.DataFrame(data_with_NaN['category'].unique(), columns = ['category'])"
   ]
  },
  {
   "cell_type": "markdown",
   "metadata": {},
   "source": [
    "### 3b. Data Bersih"
   ]
  },
  {
   "cell_type": "code",
   "execution_count": 10,
   "metadata": {},
   "outputs": [],
   "source": [
    "data_clean = data.replace(np.nan, 'non film', regex=True)"
   ]
  },
  {
   "cell_type": "code",
   "execution_count": 11,
   "metadata": {},
   "outputs": [
    {
     "data": {
      "text/plain": [
       "year_film     0\n",
       "year_award    0\n",
       "ceremony      0\n",
       "category      0\n",
       "nominee       0\n",
       "film          0\n",
       "win           0\n",
       "dtype: int64"
      ]
     },
     "execution_count": 11,
     "metadata": {},
     "output_type": "execute_result"
    }
   ],
   "source": [
    "data_clean.isnull().sum()"
   ]
  },
  {
   "cell_type": "markdown",
   "metadata": {},
   "source": [
    "### 3c. Dataset yang hanya berisi pemenang saja"
   ]
  },
  {
   "cell_type": "code",
   "execution_count": 12,
   "metadata": {},
   "outputs": [
    {
     "data": {
      "text/html": [
       "<div>\n",
       "<style scoped>\n",
       "    .dataframe tbody tr th:only-of-type {\n",
       "        vertical-align: middle;\n",
       "    }\n",
       "\n",
       "    .dataframe tbody tr th {\n",
       "        vertical-align: top;\n",
       "    }\n",
       "\n",
       "    .dataframe thead th {\n",
       "        text-align: right;\n",
       "    }\n",
       "</style>\n",
       "<table border=\"1\" class=\"dataframe\">\n",
       "  <thead>\n",
       "    <tr style=\"text-align: right;\">\n",
       "      <th></th>\n",
       "      <th>year_film</th>\n",
       "      <th>year_award</th>\n",
       "      <th>ceremony</th>\n",
       "      <th>category</th>\n",
       "      <th>nominee</th>\n",
       "      <th>film</th>\n",
       "      <th>win</th>\n",
       "    </tr>\n",
       "  </thead>\n",
       "  <tbody>\n",
       "    <tr>\n",
       "      <th>7611</th>\n",
       "      <td>2017</td>\n",
       "      <td>2018</td>\n",
       "      <td>75</td>\n",
       "      <td>Best Motion Picture - Drama</td>\n",
       "      <td>Three Billboards Outside Ebbing, Missouri</td>\n",
       "      <td>non film</td>\n",
       "      <td>True</td>\n",
       "    </tr>\n",
       "    <tr>\n",
       "      <th>3350</th>\n",
       "      <td>1983</td>\n",
       "      <td>1984</td>\n",
       "      <td>41</td>\n",
       "      <td>Best Performance by an Actress in a Supporting...</td>\n",
       "      <td>Cher</td>\n",
       "      <td>Silkwood</td>\n",
       "      <td>True</td>\n",
       "    </tr>\n",
       "    <tr>\n",
       "      <th>1103</th>\n",
       "      <td>1964</td>\n",
       "      <td>1965</td>\n",
       "      <td>22</td>\n",
       "      <td>Foreign Film - English Language</td>\n",
       "      <td>United Kingdom, Desmond Davis</td>\n",
       "      <td>Girl With Green Eyes</td>\n",
       "      <td>True</td>\n",
       "    </tr>\n",
       "    <tr>\n",
       "      <th>2371</th>\n",
       "      <td>1975</td>\n",
       "      <td>1976</td>\n",
       "      <td>33</td>\n",
       "      <td>Best Performance by an Actor In A Television S...</td>\n",
       "      <td>Telly Savalas</td>\n",
       "      <td>Kojak</td>\n",
       "      <td>True</td>\n",
       "    </tr>\n",
       "    <tr>\n",
       "      <th>884</th>\n",
       "      <td>1962</td>\n",
       "      <td>1963</td>\n",
       "      <td>20</td>\n",
       "      <td>New Star Of The Year - Actor</td>\n",
       "      <td>Keir Dullea</td>\n",
       "      <td>David and Lisa</td>\n",
       "      <td>True</td>\n",
       "    </tr>\n",
       "    <tr>\n",
       "      <th>7731</th>\n",
       "      <td>2017</td>\n",
       "      <td>2018</td>\n",
       "      <td>75</td>\n",
       "      <td>Best Performance by an Actor in a Supporting R...</td>\n",
       "      <td>Alexander Skarsgård</td>\n",
       "      <td>Big Little Lies</td>\n",
       "      <td>True</td>\n",
       "    </tr>\n",
       "    <tr>\n",
       "      <th>7514</th>\n",
       "      <td>2016</td>\n",
       "      <td>2017</td>\n",
       "      <td>74</td>\n",
       "      <td>Best Performance by an Actress in a Supporting...</td>\n",
       "      <td>Viola Davis</td>\n",
       "      <td>Fences</td>\n",
       "      <td>True</td>\n",
       "    </tr>\n",
       "    <tr>\n",
       "      <th>4843</th>\n",
       "      <td>1995</td>\n",
       "      <td>1996</td>\n",
       "      <td>53</td>\n",
       "      <td>Best Performance by an Actress in a Motion Pic...</td>\n",
       "      <td>Sharon Stone</td>\n",
       "      <td>Casino</td>\n",
       "      <td>True</td>\n",
       "    </tr>\n",
       "    <tr>\n",
       "      <th>287</th>\n",
       "      <td>1955</td>\n",
       "      <td>1956</td>\n",
       "      <td>13</td>\n",
       "      <td>Best Performance by an Actor in a Supporting R...</td>\n",
       "      <td>Arthur Kennedy</td>\n",
       "      <td>Trial</td>\n",
       "      <td>True</td>\n",
       "    </tr>\n",
       "    <tr>\n",
       "      <th>7589</th>\n",
       "      <td>2016</td>\n",
       "      <td>2017</td>\n",
       "      <td>74</td>\n",
       "      <td>Best Performance by an Actress in a Television...</td>\n",
       "      <td>Tracee Ellis Ross</td>\n",
       "      <td>Black-ish</td>\n",
       "      <td>True</td>\n",
       "    </tr>\n",
       "  </tbody>\n",
       "</table>\n",
       "</div>"
      ],
      "text/plain": [
       "      year_film  year_award  ceremony  \\\n",
       "7611       2017        2018        75   \n",
       "3350       1983        1984        41   \n",
       "1103       1964        1965        22   \n",
       "2371       1975        1976        33   \n",
       "884        1962        1963        20   \n",
       "7731       2017        2018        75   \n",
       "7514       2016        2017        74   \n",
       "4843       1995        1996        53   \n",
       "287        1955        1956        13   \n",
       "7589       2016        2017        74   \n",
       "\n",
       "                                               category  \\\n",
       "7611                        Best Motion Picture - Drama   \n",
       "3350  Best Performance by an Actress in a Supporting...   \n",
       "1103                    Foreign Film - English Language   \n",
       "2371  Best Performance by an Actor In A Television S...   \n",
       "884                        New Star Of The Year - Actor   \n",
       "7731  Best Performance by an Actor in a Supporting R...   \n",
       "7514  Best Performance by an Actress in a Supporting...   \n",
       "4843  Best Performance by an Actress in a Motion Pic...   \n",
       "287   Best Performance by an Actor in a Supporting R...   \n",
       "7589  Best Performance by an Actress in a Television...   \n",
       "\n",
       "                                        nominee                  film   win  \n",
       "7611  Three Billboards Outside Ebbing, Missouri              non film  True  \n",
       "3350                                       Cher              Silkwood  True  \n",
       "1103              United Kingdom, Desmond Davis  Girl With Green Eyes  True  \n",
       "2371                              Telly Savalas                 Kojak  True  \n",
       "884                                 Keir Dullea        David and Lisa  True  \n",
       "7731                        Alexander Skarsgård       Big Little Lies  True  \n",
       "7514                                Viola Davis                Fences  True  \n",
       "4843                               Sharon Stone                Casino  True  \n",
       "287                              Arthur Kennedy                 Trial  True  \n",
       "7589                          Tracee Ellis Ross             Black-ish  True  "
      ]
     },
     "execution_count": 12,
     "metadata": {},
     "output_type": "execute_result"
    }
   ],
   "source": [
    "data_win = data_clean.loc[data_clean.win==True]\n",
    "data_win.sample(10)"
   ]
  },
  {
   "cell_type": "markdown",
   "metadata": {},
   "source": [
    "### 4. Tren Nominasi"
   ]
  },
  {
   "cell_type": "code",
   "execution_count": 13,
   "metadata": {},
   "outputs": [
    {
     "data": {
      "text/plain": [
       "Text(0, 0.5, 'Nominations')"
      ]
     },
     "execution_count": 13,
     "metadata": {},
     "output_type": "execute_result"
    },
    {
     "data": {
      "image/png": "[encoded data removed]",
      "text/plain": [
       "<Figure size 720x360 with 1 Axes>"
      ]
     },
     "metadata": {
      "needs_background": "light"
     },
     "output_type": "display_data"
    }
   ],
   "source": [
    "plt.figure(figsize=(10,5))\n",
    "df = data_clean['year_award'].value_counts()\n",
    "sns.lineplot(x=df.index, y=df.values)\n",
    "plt.xticks()\n",
    "plt.yticks()\n",
    "plt.xlabel(\"Year\")\n",
    "plt.ylabel(\"Nominations\")"
   ]
  },
  {
   "cell_type": "markdown",
   "metadata": {},
   "source": [
    "### 5. Visualisasi Nominasi Kategori Teratas"
   ]
  },
  {
   "cell_type": "markdown",
   "metadata": {},
   "source": [
    "#### 5a. Menggunakan Data Keseluruhan"
   ]
  },
  {
   "cell_type": "code",
   "execution_count": 14,
   "metadata": {},
   "outputs": [
    {
     "data": {
      "text/html": [
       "<div>\n",
       "<style scoped>\n",
       "    .dataframe tbody tr th:only-of-type {\n",
       "        vertical-align: middle;\n",
       "    }\n",
       "\n",
       "    .dataframe tbody tr th {\n",
       "        vertical-align: top;\n",
       "    }\n",
       "\n",
       "    .dataframe thead th {\n",
       "        text-align: right;\n",
       "    }\n",
       "</style>\n",
       "<table border=\"1\" class=\"dataframe\">\n",
       "  <thead>\n",
       "    <tr style=\"text-align: right;\">\n",
       "      <th></th>\n",
       "      <th>category</th>\n",
       "      <th>nomination</th>\n",
       "    </tr>\n",
       "  </thead>\n",
       "  <tbody>\n",
       "    <tr>\n",
       "      <th>0</th>\n",
       "      <td>Best Performance by an Actress in a Supporting...</td>\n",
       "      <td>360</td>\n",
       "    </tr>\n",
       "    <tr>\n",
       "      <th>1</th>\n",
       "      <td>Best Director - Motion Picture</td>\n",
       "      <td>357</td>\n",
       "    </tr>\n",
       "    <tr>\n",
       "      <th>2</th>\n",
       "      <td>Best Performance by an Actor in a Supporting R...</td>\n",
       "      <td>352</td>\n",
       "    </tr>\n",
       "    <tr>\n",
       "      <th>3</th>\n",
       "      <td>Best Motion Picture - Drama</td>\n",
       "      <td>351</td>\n",
       "    </tr>\n",
       "    <tr>\n",
       "      <th>4</th>\n",
       "      <td>Best Performance by an Actor in a Motion Pictu...</td>\n",
       "      <td>344</td>\n",
       "    </tr>\n",
       "    <tr>\n",
       "      <th>5</th>\n",
       "      <td>Best Performance by an Actor in a Motion Pictu...</td>\n",
       "      <td>342</td>\n",
       "    </tr>\n",
       "    <tr>\n",
       "      <th>6</th>\n",
       "      <td>Best Performance by an Actress in a Motion Pic...</td>\n",
       "      <td>342</td>\n",
       "    </tr>\n",
       "    <tr>\n",
       "      <th>7</th>\n",
       "      <td>Best Original Score - Motion Picture</td>\n",
       "      <td>320</td>\n",
       "    </tr>\n",
       "    <tr>\n",
       "      <th>8</th>\n",
       "      <td>Best Motion Picture - Musical or Comedy</td>\n",
       "      <td>306</td>\n",
       "    </tr>\n",
       "    <tr>\n",
       "      <th>9</th>\n",
       "      <td>Best Screenplay - Motion Picture</td>\n",
       "      <td>293</td>\n",
       "    </tr>\n",
       "  </tbody>\n",
       "</table>\n",
       "</div>"
      ],
      "text/plain": [
       "                                            category  nomination\n",
       "0  Best Performance by an Actress in a Supporting...         360\n",
       "1                     Best Director - Motion Picture         357\n",
       "2  Best Performance by an Actor in a Supporting R...         352\n",
       "3                        Best Motion Picture - Drama         351\n",
       "4  Best Performance by an Actor in a Motion Pictu...         344\n",
       "5  Best Performance by an Actor in a Motion Pictu...         342\n",
       "6  Best Performance by an Actress in a Motion Pic...         342\n",
       "7               Best Original Score - Motion Picture         320\n",
       "8            Best Motion Picture - Musical or Comedy         306\n",
       "9                   Best Screenplay - Motion Picture         293"
      ]
     },
     "execution_count": 14,
     "metadata": {},
     "output_type": "execute_result"
    }
   ],
   "source": [
    "Top_Category = data_clean.category.value_counts().reset_index()\n",
    "Top_Category.columns = ['category', 'nomination']\n",
    "Top_Category.head(10)"
   ]
  },
  {
   "cell_type": "code",
   "execution_count": 15,
   "metadata": {},
   "outputs": [
    {
     "data": {
      "text/plain": [
       "Text(0, 0.5, 'Category')"
      ]
     },
     "execution_count": 15,
     "metadata": {},
     "output_type": "execute_result"
    },
    {
     "data": {
      "image/png": "[encoded data removed]",
      "text/plain": [
       "<Figure size 864x360 with 1 Axes>"
      ]
     },
     "metadata": {
      "needs_background": "light"
     },
     "output_type": "display_data"
    }
   ],
   "source": [
    "Top_10_Categories=Top_Category.head(10)\n",
    "plt.figure(figsize=(12,5))\n",
    "plt.title('Top 10 Total Categories')\n",
    "sns.barplot(y='category',x='nomination', data=Top_10_Categories, palette = 'magma')\n",
    "plt.xlabel('Count')\n",
    "plt.ylabel('Category')"
   ]
  },
  {
   "cell_type": "markdown",
   "metadata": {},
   "source": [
    "#### 5b. Menggunakan Data Non Film"
   ]
  },
  {
   "cell_type": "code",
   "execution_count": 16,
   "metadata": {},
   "outputs": [],
   "source": [
    "data_non_film = data_clean.loc[data_clean['film'] == 'non film'].reset_index(drop=True)"
   ]
  },
  {
   "cell_type": "code",
   "execution_count": 17,
   "metadata": {},
   "outputs": [
    {
     "data": {
      "text/plain": [
       "Text(0, 0.5, 'Category')"
      ]
     },
     "execution_count": 17,
     "metadata": {},
     "output_type": "execute_result"
    },
    {
     "data": {
      "image/png": "[encoded data removed]",
      "text/plain": [
       "<Figure size 864x360 with 1 Axes>"
      ]
     },
     "metadata": {
      "needs_background": "light"
     },
     "output_type": "display_data"
    }
   ],
   "source": [
    "Top_Category_Non_Film = data_non_film.category.value_counts().head(10).reset_index()\n",
    "Top_Category_Non_Film.columns = ['category', 'nomination']\n",
    "\n",
    "plt.figure(figsize=(12,5))\n",
    "plt.title('Top 10 Total Categories - Non Film')\n",
    "sns.barplot(y='category',x='nomination', data=Top_Category_Non_Film, palette = 'magma')\n",
    "plt.xlabel('Count')\n",
    "plt.ylabel('Category')"
   ]
  },
  {
   "cell_type": "markdown",
   "metadata": {},
   "source": [
    "#### 5c. Menggunakan Data Film"
   ]
  },
  {
   "cell_type": "code",
   "execution_count": 18,
   "metadata": {},
   "outputs": [],
   "source": [
    "data_film = data_clean.loc[data_clean['film'] != 'non film'].reset_index(drop=True)"
   ]
  },
  {
   "cell_type": "code",
   "execution_count": 19,
   "metadata": {},
   "outputs": [
    {
     "data": {
      "text/plain": [
       "Text(0, 0.5, 'Category')"
      ]
     },
     "execution_count": 19,
     "metadata": {},
     "output_type": "execute_result"
    },
    {
     "data": {
      "image/png": "[encoded data removed]",
      "text/plain": [
       "<Figure size 864x360 with 1 Axes>"
      ]
     },
     "metadata": {
      "needs_background": "light"
     },
     "output_type": "display_data"
    }
   ],
   "source": [
    "Top_Category_Film = data_film.category.value_counts().head(10).reset_index()\n",
    "Top_Category_Film.columns = ['category', 'nomination']\n",
    "\n",
    "plt.figure(figsize=(12,5))\n",
    "plt.title('Top 10 Total Categories - Film')\n",
    "sns.barplot(y='category',x='nomination', data=Top_Category_Film, palette = 'magma')\n",
    "plt.xlabel('Count')\n",
    "plt.ylabel('Category')"
   ]
  },
  {
   "cell_type": "markdown",
   "metadata": {},
   "source": [
    "### 6. Visualisasi Nama Nominasi Teratas"
   ]
  },
  {
   "cell_type": "code",
   "execution_count": 20,
   "metadata": {},
   "outputs": [],
   "source": [
    "Top_Nominee = data_clean.nominee.value_counts().head(10).reset_index()\n",
    "Top_Nominee.columns = ['name', 'nomination']"
   ]
  },
  {
   "cell_type": "code",
   "execution_count": 21,
   "metadata": {},
   "outputs": [
    {
     "data": {
      "text/plain": [
       "Text(0, 0.5, 'Nominee')"
      ]
     },
     "execution_count": 21,
     "metadata": {},
     "output_type": "execute_result"
    },
    {
     "data": {
      "image/png": "[encoded data removed]",
      "text/plain": [
       "<Figure size 864x360 with 1 Axes>"
      ]
     },
     "metadata": {
      "needs_background": "light"
     },
     "output_type": "display_data"
    }
   ],
   "source": [
    "plt.figure(figsize=(12,5))\n",
    "plt.title('Top 10 Total Nominees')\n",
    "sns.barplot(y='name',x='nomination', data=Top_Nominee, palette = 'magma')\n",
    "plt.xlabel('Count')\n",
    "plt.ylabel('Nominee')"
   ]
  },
  {
   "cell_type": "markdown",
   "metadata": {},
   "source": [
    "### 7. Visualisasi Nama Pemenang Terbanyak"
   ]
  },
  {
   "cell_type": "code",
   "execution_count": 22,
   "metadata": {},
   "outputs": [],
   "source": [
    "TopWinners=data_win.nominee.value_counts().head(10).reset_index()\n",
    "TopWinners.columns = ['name', 'nomination']"
   ]
  },
  {
   "cell_type": "code",
   "execution_count": 23,
   "metadata": {
    "scrolled": false
   },
   "outputs": [
    {
     "data": {
      "text/plain": [
       "Text(0, 0.5, 'Nominee')"
      ]
     },
     "execution_count": 23,
     "metadata": {},
     "output_type": "execute_result"
    },
    {
     "data": {
      "image/png": "[encoded data removed]",
      "text/plain": [
       "<Figure size 864x360 with 1 Axes>"
      ]
     },
     "metadata": {
      "needs_background": "light"
     },
     "output_type": "display_data"
    }
   ],
   "source": [
    "plt.figure(figsize=(12,5))\n",
    "plt.title('Top 10 Total Winners')\n",
    "sns.barplot(y='name',x='nomination', data=TopWinners, palette = 'magma')\n",
    "plt.xlabel('Count')\n",
    "plt.ylabel('Nominee')"
   ]
  },
  {
   "cell_type": "markdown",
   "metadata": {},
   "source": [
    "### 8. Visualisasi Nominator Film Terbanyak"
   ]
  },
  {
   "cell_type": "code",
   "execution_count": 24,
   "metadata": {},
   "outputs": [],
   "source": [
    "nominee_film=data_clean.loc[data_clean.film != 'non film']\n",
    "nominee_film=nominee_film['film'].value_counts().head(10).reset_index()\n",
    "nominee_film.columns =['film', 'nomination']"
   ]
  },
  {
   "cell_type": "code",
   "execution_count": 25,
   "metadata": {},
   "outputs": [
    {
     "data": {
      "text/plain": [
       "Text(0, 0.5, 'Film')"
      ]
     },
     "execution_count": 25,
     "metadata": {},
     "output_type": "execute_result"
    },
    {
     "data": {
      "image/png": "[encoded data removed]",
      "text/plain": [
       "<Figure size 864x360 with 1 Axes>"
      ]
     },
     "metadata": {
      "needs_background": "light"
     },
     "output_type": "display_data"
    }
   ],
   "source": [
    "plt.figure(figsize=(12,5))\n",
    "plt.title('Top 10 Total Film Nominees')\n",
    "sns.barplot(y='film',x='nomination', data=nominee_film, palette = 'magma')\n",
    "plt.xlabel('Count')\n",
    "plt.ylabel('Film')"
   ]
  },
  {
   "cell_type": "markdown",
   "metadata": {},
   "source": [
    "### 9. Visualisasi Pemenang Terbanyak Berdasarkan Film "
   ]
  },
  {
   "cell_type": "code",
   "execution_count": 26,
   "metadata": {},
   "outputs": [],
   "source": [
    "winner_film=data_win.loc[data_win.film != 'non film']\n",
    "winner_film=winner_film['film'].value_counts().head(10).reset_index()\n",
    "winner_film.columns =['film', 'nomination']"
   ]
  },
  {
   "cell_type": "code",
   "execution_count": 27,
   "metadata": {},
   "outputs": [
    {
     "data": {
      "text/plain": [
       "Text(0, 0.5, 'Film')"
      ]
     },
     "execution_count": 27,
     "metadata": {},
     "output_type": "execute_result"
    },
    {
     "data": {
      "image/png": "[encoded data removed]",
      "text/plain": [
       "<Figure size 864x360 with 1 Axes>"
      ]
     },
     "metadata": {
      "needs_background": "light"
     },
     "output_type": "display_data"
    }
   ],
   "source": [
    "plt.figure(figsize=(12,5))\n",
    "plt.title('Top 10 Total Film Winners')\n",
    "sns.barplot(y='film',x='nomination', data=winner_film, palette = 'magma')\n",
    "plt.xlabel('Count')\n",
    "plt.ylabel('Film')"
   ]
  },
  {
   "cell_type": "markdown",
   "metadata": {},
   "source": [
    "### 10. Persentase Kemenangan Teratas Tiap Nominasi (minimal 15 kali masuk nominasi)"
   ]
  },
  {
   "cell_type": "code",
   "execution_count": 28,
   "metadata": {},
   "outputs": [],
   "source": [
    "total_nominee = data_clean.nominee.value_counts().reset_index()\n",
    "total_winner = data_win.nominee.value_counts().reset_index()\n",
    "wr = total_nominee.merge(total_winner, how = 'inner', on = 'index')\n",
    "wr.columns = ['Name', 'Total_Nominees', 'Total_Winners']"
   ]
  },
  {
   "cell_type": "code",
   "execution_count": 29,
   "metadata": {},
   "outputs": [],
   "source": [
    "wr = wr.sort_values(by='Total_Nominees', ascending=False)\n",
    "wr['Win_Rate(%)'] = round((wr['Total_Winners'] / wr['Total_Nominees'])*100, 2)"
   ]
  },
  {
   "cell_type": "code",
   "execution_count": 30,
   "metadata": {
    "scrolled": true
   },
   "outputs": [
    {
     "data": {
      "text/html": [
       "<div>\n",
       "<style scoped>\n",
       "    .dataframe tbody tr th:only-of-type {\n",
       "        vertical-align: middle;\n",
       "    }\n",
       "\n",
       "    .dataframe tbody tr th {\n",
       "        vertical-align: top;\n",
       "    }\n",
       "\n",
       "    .dataframe thead th {\n",
       "        text-align: right;\n",
       "    }\n",
       "</style>\n",
       "<table border=\"1\" class=\"dataframe\">\n",
       "  <thead>\n",
       "    <tr style=\"text-align: right;\">\n",
       "      <th></th>\n",
       "      <th>Name</th>\n",
       "      <th>Total_Nominees</th>\n",
       "      <th>Total_Winners</th>\n",
       "      <th>Win_Rate(%)</th>\n",
       "    </tr>\n",
       "  </thead>\n",
       "  <tbody>\n",
       "    <tr>\n",
       "      <th>0</th>\n",
       "      <td>Jane Fonda</td>\n",
       "      <td>15</td>\n",
       "      <td>7</td>\n",
       "      <td>46.67</td>\n",
       "    </tr>\n",
       "    <tr>\n",
       "      <th>1</th>\n",
       "      <td>Barbra Streisand</td>\n",
       "      <td>16</td>\n",
       "      <td>7</td>\n",
       "      <td>43.75</td>\n",
       "    </tr>\n",
       "    <tr>\n",
       "      <th>2</th>\n",
       "      <td>Angela Lansbury</td>\n",
       "      <td>15</td>\n",
       "      <td>6</td>\n",
       "      <td>40.00</td>\n",
       "    </tr>\n",
       "    <tr>\n",
       "      <th>3</th>\n",
       "      <td>Paul Newman</td>\n",
       "      <td>16</td>\n",
       "      <td>6</td>\n",
       "      <td>37.50</td>\n",
       "    </tr>\n",
       "    <tr>\n",
       "      <th>4</th>\n",
       "      <td>Alan Alda</td>\n",
       "      <td>16</td>\n",
       "      <td>6</td>\n",
       "      <td>37.50</td>\n",
       "    </tr>\n",
       "    <tr>\n",
       "      <th>5</th>\n",
       "      <td>Jack Nicholson</td>\n",
       "      <td>18</td>\n",
       "      <td>6</td>\n",
       "      <td>33.33</td>\n",
       "    </tr>\n",
       "    <tr>\n",
       "      <th>6</th>\n",
       "      <td>Jessica Lange</td>\n",
       "      <td>16</td>\n",
       "      <td>5</td>\n",
       "      <td>31.25</td>\n",
       "    </tr>\n",
       "    <tr>\n",
       "      <th>7</th>\n",
       "      <td>Carol Burnett</td>\n",
       "      <td>17</td>\n",
       "      <td>5</td>\n",
       "      <td>29.41</td>\n",
       "    </tr>\n",
       "    <tr>\n",
       "      <th>8</th>\n",
       "      <td>Meryl Streep</td>\n",
       "      <td>33</td>\n",
       "      <td>8</td>\n",
       "      <td>24.24</td>\n",
       "    </tr>\n",
       "    <tr>\n",
       "      <th>9</th>\n",
       "      <td>Shirley MacLaine</td>\n",
       "      <td>21</td>\n",
       "      <td>5</td>\n",
       "      <td>23.81</td>\n",
       "    </tr>\n",
       "  </tbody>\n",
       "</table>\n",
       "</div>"
      ],
      "text/plain": [
       "               Name  Total_Nominees  Total_Winners  Win_Rate(%)\n",
       "0        Jane Fonda              15              7        46.67\n",
       "1  Barbra Streisand              16              7        43.75\n",
       "2   Angela Lansbury              15              6        40.00\n",
       "3       Paul Newman              16              6        37.50\n",
       "4         Alan Alda              16              6        37.50\n",
       "5    Jack Nicholson              18              6        33.33\n",
       "6     Jessica Lange              16              5        31.25\n",
       "7     Carol Burnett              17              5        29.41\n",
       "8      Meryl Streep              33              8        24.24\n",
       "9  Shirley MacLaine              21              5        23.81"
      ]
     },
     "execution_count": 30,
     "metadata": {},
     "output_type": "execute_result"
    }
   ],
   "source": [
    "Top_WR = wr[wr['Total_Nominees'] >= 15].sort_values(by='Win_Rate(%)', ascending=False).reset_index(drop=True).head(10)\n",
    "Top_WR"
   ]
  },
  {
   "cell_type": "markdown",
   "metadata": {},
   "source": [
    "### 11. Kesimpulan"
   ]
  },
  {
   "cell_type": "markdown",
   "metadata": {},
   "source": [
    "- Sebanyak 7 kolom dan 7991 rows data yang digunakan\n",
    "- Sebanyak 1800 null values terdapat pada kolom 'film', kemudian null values tersebut diinput dengan kategori 'non film'\n",
    "- Tren jumlah nominasi secara garis besar terus bertambah dari tahun ke tahun, terjadi kestabilan mulai tahun 1980\n",
    "- Kategori pada film yang paling banyak dinominasikan adalah 'Best Performance by an Actress in a Supporting Role in any Motion Picture'\n",
    "- Kategori pada non film adalah 'Best Motion Picture - Drama'\n",
    "- Meryl Streep merupakan orang yang paling banyak masuk nominasi pada penghargaan ini sebanyak 33 kali nominasi\n",
    "- Meryl Streep juga merupakan orang yang paling banyak memenangkan penghargaan\n",
    "- L.A. Law merupakan film yang paling banyak menyumbangkan nominator\n",
    "- Alice, M*A*S*H (TV Show), dan Carol Burnett Show merupakan film yang paling banyak memenangkan nominatornya masing-masing sebanyak 7 kali\n",
    "- Jane Fonda memiliki persentase kemenangan terbaik dengan 46.67% dengan 15 kali nominasi dan 7 kali kemenangan (min 15 kali nominasi)"
   ]
  },
  {
   "cell_type": "markdown",
   "metadata": {},
   "source": [
    "# Terima Kasih"
   ]
  }
 ],
 "metadata": {
  "kernelspec": {
   "display_name": "Python 3",
   "language": "python",
   "name": "python3"
  },
  "language_info": {
   "codemirror_mode": {
    "name": "ipython",
    "version": 3
   },
   "file_extension": ".py",
   "mimetype": "text/x-python",
   "name": "python",
   "nbconvert_exporter": "python",
   "pygments_lexer": "ipython3",
   "version": "3.7.3"
  }
 },
 "nbformat": 4,
 "nbformat_minor": 2
}
